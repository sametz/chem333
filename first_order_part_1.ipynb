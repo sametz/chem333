{
 "cells": [
  {
   "cell_type": "code",
   "execution_count": null,
   "metadata": {},
   "outputs": [],
   "source": [
    "%%html\n",
    "<style>\n",
    "body {\n",
    "    font-family: \"Avenir\", cursive, sans-serif;\n",
    "}\n",
    "</style> "
   ]
  },
  {
   "cell_type": "markdown",
   "metadata": {},
   "source": [
    "\n",
    "# First-Order Splitting Patterns in <sup>1</sup>H NMR Spectra, Part 1: The \"*n* + 1\" Rule"
   ]
  },
  {
   "cell_type": "markdown",
   "metadata": {},
   "source": [
    "### **Instructions:** From the \"Cell\" dropdown menu, select  \"Run All\". The interactive plots that accompany the text will be activated."
   ]
  },
  {
   "cell_type": "code",
   "execution_count": null,
   "metadata": {
    "pycharm": {
     "name": "#%%\n"
    }
   },
   "outputs": [],
   "source": [
    "from IPython.display import HTML"
   ]
  },
  {
   "cell_type": "code",
   "execution_count": null,
   "metadata": {},
   "outputs": [],
   "source": [
    "HTML('''<script>\n",
    "code_show=true; \n",
    "function code_toggle() {\n",
    " if (code_show){\n",
    " $('div.input').hide();\n",
    " } else {\n",
    " $('div.input').show();\n",
    " }\n",
    " code_show = !code_show\n",
    "} \n",
    "$( document ).ready(code_toggle);\n",
    "</script>\n",
    "The python code for this notebook is hidden by default. \n",
    "To toggle on/off the raw code, click <a href=\"javascript:code_toggle()\">here</a>.''')"
   ]
  },
  {
   "cell_type": "markdown",
   "metadata": {
    "pycharm": {
     "name": "#%% md\n"
    }
   },
   "source": [
    "This tutorial assumes the user is familiar with NMR spectroscopy at least up to the meaning of chemical shifts and signal integrations. Familiarity with the \"n + 1\" rule is helpful, but this will be covered in the tutorial."
   ]
  },
  {
   "cell_type": "code",
   "execution_count": null,
   "metadata": {},
   "outputs": [],
   "source": [
    "import holoviews as hv\n",
    "import panel as pn\n",
    "hv.extension('bokeh', width=100)\n",
    "pn.extension()"
   ]
  },
  {
   "cell_type": "markdown",
   "metadata": {
    "pycharm": {
     "name": "#%% md\n"
    }
   },
   "source": [
    "## What Is \"First-Order\" Behavior?\n",
    "\n",
    "To accurately model NMR spectra, quantum mechanical calculations are required. This is not something that can be done \"on the back of an envelope\" with a calculator and ruler. However, it is often possible to adequately interpret the spectra using a simpler physical model. We will describe and use this model in this tutorial. Spectra that closely follow this simpler model are said to follow **first-order** behavior. The explanations that follow use this simplistic physical model.\n",
    "\n",
    "When the observed spectra cannot adequately be interpreted with this approximate model, they are said to follow **second-order** behavior, and more complicated calculations are required to interpret them accurately. We will see an example of this after we introduce the concept of *J*-coupling, starting with the \"doublet\" pattern."
   ]
  },
  {
   "cell_type": "markdown",
   "metadata": {},
   "source": [
    "## *J* Couplings\n",
    "\n",
    "Spin-½ nuclei can be considered to be \"spin-up\" (\"α\"; aligned with the spectrometer's magnetic field) or \"spin-down\" (\"β\"; aligned against the spectrometer's magnetic field). The odds of it being either spin-up or spin-down are very nearly equal. \n",
    "\n",
    "The small magnetic moments of neighboring nuclei alter the net magnetic field strengh that a nucleus experiences. If a nucleus has one such neighbor, there's close to a 50% chance that it will experience a slightly stronger total magnetic field, and a 50% chance of a slightly weaker magnetic field. That means that half the time the nucleus will resonate at a slightly higher frequency, and half the time at a slightly lower frequency. The two nuclei are said to be **coupled**, and the size of the frequency difference between the high- and low-frequency peaks in Hz is referred to as the **coupling constant**, or ***J*-value**.\n",
    "\n",
    "You can simulate this behavior using the plot below. In the absence of *J*-coupling, a single peak or **singlet** is seen. Check the box to toggle the *J* coupling to one neighbor on and off. Turning the coupling on changes the singlet to a two-peak **doublet**.\n",
    "\n"
   ]
  },
  {
   "cell_type": "code",
   "execution_count": null,
   "metadata": {},
   "outputs": [],
   "source": [
    "from panel_plots import n_plus_one, toggle_doublet"
   ]
  },
  {
   "cell_type": "code",
   "execution_count": null,
   "metadata": {
    "pycharm": {
     "name": "#%%\n"
    }
   },
   "outputs": [],
   "source": [
    "toggle_doublet_app = pn.interact(toggle_doublet, n=False)\n",
    "\n",
    "toggle_doublet_app"
   ]
  },
  {
   "cell_type": "markdown",
   "metadata": {},
   "source": [
    "Note that when the coupling is turned on, the intensities of the two peaks of the resulting doublet are half that of the original singlet. \n",
    "The signal appears as a singlet at 100 Hz in the absence of coupling, but two signals at 95 and 105 Hz in the presence of a 10-Hz *J* coupling.\n",
    "\n",
    "The simulations in this tutorial will use Hz as the x-axis, and $\\nu$ (nu) to represent a frequency in Hz. A signal at 100 Hz would appear at 100 Hz higher frequency than the signal for TMS (tetramethylsilane). In standard NMR spectra, the $\\delta$/ppm (parts per million) scale is used instead. For <sup>1</sup>H NMR spectra, if you divide the frequency of the signal in Hz by the frequency of the spectrometer, you get the chemical shift in ppm. A 100-Hz signal would be 1 ppm on a 100 MHz spectrometer, but 0.25 ppm on a 400 MHz spectrometer (the standard spectrometer we use for CHEM333 lab samples)."
   ]
  },
  {
   "cell_type": "markdown",
   "metadata": {},
   "source": [
    "## Two Coupled Nuclei\n",
    "\n",
    "Before discussing sets of coupled nuclei, we need to distinguish between nuclei that are *chemical shift-equivalent* vs. those that are *chemical shift non-equivalent*.  "
   ]
  },
  {
   "cell_type": "markdown",
   "metadata": {},
   "source": [
    "### Chemical Shift Equivalence\n",
    "\n",
    "If two nuclei exhibit the exact same chemical shift, either because of the molecule's symmetry, or because of a rapid exchange process, they are said to be **chemical shift equivalent**. \n",
    "\n",
    "Chloroethane (Cl-CH<sub>2</sub>-CH<sub>3</sub>) has two sets of chemical shift equivalent protons. The protons of the methyl group are equivalent because rapid rotation about the C-C bond exchanges them, and on average they will have the same chemical shift:"
   ]
  },
  {
   "cell_type": "markdown",
   "metadata": {},
   "source": [
    "<img src='img/homotopic.png' style='width: 600px;'>"
   ]
  },
  {
   "cell_type": "markdown",
   "metadata": {},
   "source": [
    "The protons of the downfield methylene group are chemical shift-equivalent because there is a mirror plane of symmetry relating them:"
   ]
  },
  {
   "cell_type": "markdown",
   "metadata": {},
   "source": [
    "<img src='img/enantiotopic.png' style='width: 600px;'>"
   ]
  },
  {
   "cell_type": "markdown",
   "metadata": {},
   "source": [
    "***Splitting is not observed between chemical shift-equivalent nuclei***. For example, the methyl group of chloromethane would appear as a singlet. It is often incorrectly said that \"nuclei with the same chemical shift don't couple to each other\", but that's not true--they do couple, but you won't see extra peaks appear in the NMR as a consequence."
   ]
  },
  {
   "cell_type": "markdown",
   "metadata": {},
   "source": [
    "If two spin-½ nuclei, with different chemical shifts, are coupled to each other and nothing else, their signals will each be split into a doublet. If their chemical shift separation is large (e.g. dichloroacetaldehyde), each will appear as a 1:1 doublet, and the chemical shift of the signal can be measured from the midpoint of the doublet. Here is a first-order simulation for two coupled nuclei, at 100 Hz and 500 Hz, with a 10-Hz coupling:"
   ]
  },
  {
   "cell_type": "code",
   "execution_count": null,
   "metadata": {},
   "outputs": [],
   "source": [
    "from panel_plots import two_doublets"
   ]
  },
  {
   "cell_type": "code",
   "execution_count": null,
   "metadata": {},
   "outputs": [],
   "source": [
    "two_doublets(100, 500, 10)"
   ]
  },
  {
   "cell_type": "markdown",
   "metadata": {},
   "source": [
    "### Pople Nomenclature\n",
    "\n",
    "Groups of coupled nuclei, or **spin systems**, can be described using the **Pople Nomenclature** system, which we introduce with this example. This system uses a different upper-case letter to refer to each set of chemical shift-equivalent nuclei. It's traditional to use the letters A and X for two sets of chemical-shift equivalent nuclei with very different chemical shifts (i.e. $\\Delta\\nu >> J$). The spin system described above (two doublets) would be an example of an **AX** spin system. Subscripts are added if there are multiple nuclei of the same type; for example, the spin system for chloroethane can be described as A<sub>2</sub>X<sub>3</sub>. "
   ]
  },
  {
   "cell_type": "markdown",
   "metadata": {},
   "source": [
    "***J-splitting is reciprocal:*** If H<sub>A</sub> is split by H<sub>X</sub> with *J* = 10 Hz, then H<sub>X</sub> is split by H<sub>A</sub> with a 10-Hz splitting as well. "
   ]
  },
  {
   "cell_type": "markdown",
   "metadata": {},
   "source": [
    "## Origin of the \"n + 1\" Rule\n",
    "\n",
    "The **n + 1 rule** predicts that, if a nucleus is being split by *n* nuclei by a coupling constant *J*, its NMR signal will have *n* + 1 peaks. We have already discussed the *n* = 0 case, where a singlet is seen in the absence of coupling, and the *n* = 1 case, where a doublet is seen when the nucleus is coupled to one neighbor. Additional splittings give rise to additional peaks (triplet, quartet, etc.) The following table summarizes the nomenclature for these signals, as well as their commonly-used abbreviations.\n",
    "\n",
    "| n | # of peaks | name | abbreviation |\n",
    "|:-:|:-:|:-:|:-:|\n",
    "| 0 | 1 | singlet |s|\n",
    "| 1 | 2 | doublet |d|\n",
    "| 2 | 3 | triplet |t|\n",
    "| 3 | 4 | quartet |q|\n",
    "| 4 | 5 | quintet |quint|\n",
    "| 5 | 6 | sextet | |\n",
    "| 6 | 7 | septet | |\n",
    "| 7 | 8 | octet | |\n",
    "| 8 | 9 | nonet | |\n",
    "\n",
    "A neighboring spin-½ nuclei (e.g <sup>1</sup>H; <sup>13</sup>C) nucleus has close to a 50:50 chance of being spin-up vs. spin-down, with each state adding or subtracting to the overall strength of the magnetic field experienced by the nucleus of interest. The statistical chance of the nucleus of interest experiencing a certain magnetic field strength (and thus a certain frequency/chemical shift) resembles the statistical chance of head/tails coin flips. If you flip two coins, the possible results are:\n",
    "\n",
    "* both heads: 25%\n",
    "* one heads, one tails: 50%\n",
    "* both tails: 25%\n",
    "\n",
    "or 1 : 2 : 1. \n",
    "\n",
    "Similarly, if a proton has two proton neighbors, each of which can be either α or β, the odds are close to:\n",
    "\n",
    "* both α: 25%\n",
    "* one α, one β: 50 %\n",
    "* both β: 25%\n",
    "\n",
    "or 1 : 2 : 1. \n",
    "\n",
    "For the plot below, drag the slider to change the number of neighbors n (each with a 10-Hz coupling) from 0 to 1 to 2. When n = 2, a \"triplet\" pattern with 1 : 2 : 1 intensities results. Compared to the intensity of the singlet in the absence of coupling, the triplet intensities are 0.25 : 0.5 : 0.25. Note that the integration of this signal will be 1 regardless of the number of splittings."
   ]
  },
  {
   "cell_type": "code",
   "execution_count": null,
   "metadata": {},
   "outputs": [],
   "source": [
    "from panel_plots import singlet_to_triplet, simple_multiplet"
   ]
  },
  {
   "cell_type": "code",
   "execution_count": null,
   "metadata": {
    "pycharm": {
     "name": "#%%\n"
    }
   },
   "outputs": [],
   "source": [
    "singlet_to_triplet_app = pn.interact(singlet_to_triplet, n=(0, 2, 1, 0))\n",
    "singlet_to_triplet_app"
   ]
  },
  {
   "cell_type": "markdown",
   "metadata": {},
   "source": [
    "As *n* increases, the relative intensities of the peaks in the signal are predicted by [Pascal's triangle](https://en.wikipedia.org/wiki/Pascal%27s_triangle):"
   ]
  },
  {
   "cell_type": "markdown",
   "metadata": {},
   "source": [
    "<img src='img/pascal_triangle.png' style='width: 300px;'>"
   ]
  },
  {
   "cell_type": "markdown",
   "metadata": {},
   "source": [
    "Use the slider below to change *n* from 0 through 8 to see what the corresponding *n* + 1 multiplet looks like:"
   ]
  },
  {
   "cell_type": "code",
   "execution_count": null,
   "metadata": {},
   "outputs": [],
   "source": [
    "simple_multiplet_app = pn.interact(simple_multiplet, n=(0, 8, 1, 1))\n",
    "simple_multiplet_app"
   ]
  },
  {
   "cell_type": "markdown",
   "metadata": {},
   "source": [
    "Note that as *n* increases, the size difference between the outermost and innermost peaks increases as well. At higher values of *n*, it can be hard to see the outermost peaks. In real spectra with poor signal-to-noise ratio, they can easily be lost in the noise. Without accurate intensities for the individual peaks, it can be easy to misinterpret such a signal (e.g. interpret a nonet as a septet).\n",
    "\n",
    "- For the above simulation, set *n* to 8. If you only see 7 peaks instead of 9, use one of the zoom tools in the right menu bar (indicated by the magnifying glass in the icon) to expand or enlarge the signal and see all 9 peaks."
   ]
  },
  {
   "cell_type": "markdown",
   "metadata": {},
   "source": [
    "***n + 1* multiplets are seen when the couplings *J* are all the same size**. When the magnitudes of the couplings to neighboring nuclei are different, more complicated patterns are seen. These will be covered in [the next tutorial](first_order_part_2.ipynb)."
   ]
  }
 ],
 "metadata": {
  "kernelspec": {
   "display_name": "jupyterhub",
   "language": "python",
   "name": "jupyterhub"
  },
  "language_info": {
   "codemirror_mode": {
    "name": "ipython",
    "version": 3
   },
   "file_extension": ".py",
   "mimetype": "text/x-python",
   "name": "python",
   "nbconvert_exporter": "python",
   "pygments_lexer": "ipython3",
   "version": "3.7.7"
  }
 },
 "nbformat": 4,
 "nbformat_minor": 4
}
