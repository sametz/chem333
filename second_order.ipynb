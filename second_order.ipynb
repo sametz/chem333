{
 "cells": [
  {
   "cell_type": "code",
   "execution_count": null,
   "metadata": {},
   "outputs": [],
   "source": [
    "%%html\n",
    "<style>\n",
    "body {\n",
    "    font-family: \"Avenir\", cursive, sans-serif;\n",
    "}\n",
    "</style> "
   ]
  },
  {
   "cell_type": "markdown",
   "metadata": {},
   "source": [
    "# Second-Order NMR Signals\n",
    "working title"
   ]
  },
  {
   "cell_type": "markdown",
   "metadata": {},
   "source": [
    "### **Instructions:** From the \"Cell\" dropdown menu, select  \"Run All\". The interactive plots that accompany the text will be activated."
   ]
  },
  {
   "cell_type": "code",
   "execution_count": null,
   "metadata": {},
   "outputs": [],
   "source": [
    "import holoviews as hv\n",
    "import panel as pn\n",
    "hv.extension('bokeh', width=100)\n",
    "pn.extension()"
   ]
  },
  {
   "cell_type": "code",
   "execution_count": null,
   "metadata": {},
   "outputs": [],
   "source": [
    "from IPython.display import HTML"
   ]
  },
  {
   "cell_type": "code",
   "execution_count": null,
   "metadata": {},
   "outputs": [],
   "source": [
    "HTML('''<script>\n",
    "code_show=true; \n",
    "function code_toggle() {\n",
    " if (code_show){\n",
    " $('div.input').hide();\n",
    " } else {\n",
    " $('div.input').show();\n",
    " }\n",
    " code_show = !code_show\n",
    "} \n",
    "$( document ).ready(code_toggle);\n",
    "</script>\n",
    "The python code for this notebook is hidden by default. \n",
    "To toggle on/off the raw code, click <a href=\"javascript:code_toggle()\">here</a>.''')"
   ]
  },
  {
   "cell_type": "markdown",
   "metadata": {},
   "source": [
    "NMR signals that approximate first-order behavior are relatively easy to analyze.\n",
    "Coupling constants can be calculated from the frequency differences between peaks. The chemical shift for the nucleus can be taken as the midpoint of the centro-symmetric multiplet.\n",
    "\n",
    "When first order analysis gives inaccurate results, or fails to apply altogether, \n",
    "the calculations become more complicated. \n",
    "For some simple, common systems there are analytical solutions that can be used. \n",
    "In more complicated systems, it may be necessary to use computer simulations. \n",
    "\n",
    "For CHEM333, it's not expected that you analyze these patterns thoroughly. \n",
    "If this interests you, however, check out \n",
    "[Hans Reich's website](https://www2.chem.wisc.edu/areas/reich/nmr/).\n",
    "\n",
    "This notebook will focus on learning what the common second-order patterns look like, \n",
    "and how to anticipate if your molecule of interest may have second-order features in its NMR spectrum.\n",
    "\n"
   ]
  },
  {
   "cell_type": "markdown",
   "metadata": {},
   "source": [
    "## When to Expect \"Weird\" (Second-Order) Behavior"
   ]
  },
  {
   "cell_type": "markdown",
   "metadata": {},
   "source": [
    "1. When the distance between signals for coupled nuclei approaches the size of their coupling.\n",
    "\n",
    "2. When there are chemical shift-equivalent nuclei that are not magnetically equivalent. \"Magnetic equivalence\" will be explained further down this notebook."
   ]
  },
  {
   "cell_type": "markdown",
   "metadata": {},
   "source": [
    "## Strong Coupling"
   ]
  },
  {
   "cell_type": "markdown",
   "metadata": {},
   "source": [
    "Second-order distortions increase the closer two coupled nuclei are (in Hz). \n",
    "When the size of their splitting approaches or exceeds the size of their separation \n",
    "(i.e. $J\\geq\\Delta\\nu$), \n",
    "the nuclei can be said to be <dfn>strongly coupled</dfn>.\n",
    "You can expect the signals for strongly-coupled nuclei to deviate significantly from first-order behavior."
   ]
  },
  {
   "cell_type": "markdown",
   "metadata": {},
   "source": [
    "### Virtual Coupling\n",
    "Strongly-coupled nuclei can also distort the signals of other nuclei coupled to them. \n",
    "For example, consider the following spin system:  \n",
    "\n",
    "<br/>\n",
    "<center>CH<sub>A</sub>—CH<sub>B</sub>—CH<sub>X</sub></center>\n",
    "\n",
    "Normally, you would expect the signal for H<sub>X</sub> to be a doublet. H<sub>A</sub> and H<sub>X</sub> \n",
    "are separated by 4 &sigma;-bonds, so the coupling constant $^4J_{AX}$ should be ~ 0 Hz. However, if H<sub>A</sub> and H<sub>B</sub> are strongly coupled, H<sub>X</sub> will show a \"virtual coupling\" to H<sub>A</sub>, and appear as a doublet of doublets. In the extreme, if H<sub>A</sub> and H<sub>B</sub> coincidentally have approximately the same chemical shift, H<sub>X</sub> will appear as a triplet.\n",
    "\n",
    "Virtual coupling can easily mislead you, so it's good to know when it might be operating so you can be on the alert for \"weird\" behavior.\n",
    "\n",
    "Virtual coupling is discussed in more detail on [Hans Reich's website](https://www2.chem.wisc.edu/areas/reich/nmr/05-hmr-16-virt-coupl.htm)."
   ]
  },
  {
   "cell_type": "markdown",
   "metadata": {},
   "source": [
    "## The AB Quartet"
   ]
  },
  {
   "cell_type": "markdown",
   "metadata": {},
   "source": [
    "The AX system (two coupled nuclei with a large chemical shift separation) was covered in [First Order Splitting Patterns, Part 1](first_order_part_1.ipynb). Each signal appears as a 1:1 doublet, with the midpoint of the doublet equal to the chemical shift."
   ]
  },
  {
   "cell_type": "markdown",
   "metadata": {},
   "source": [
    "As the chemical shift difference between the two doublets decreases, their appearance and interpretation deviate from the first-order behavior described above. The size of the inner peak of each doublet grows larger, and the outer peaks smaller. This effect where the signals appear to \"lean towards each other\" is often described as \"tenting\" or \"roofing\". Also, the chemical shift for each nucleus is no longer the midpoint of the 1:1 doublet, but closer to the larger peak than the smaller. When the the distortions are severe enough that a first-order analysis is insufficiently accurate (roughly when $\\Delta\\nu < 5 J$, the spin system would be considered second-order and described as **AB** rather than AX. The proximity of the letters A and B in the alphabet implies the chemical-shift proximity of the two signals in the NMR spectrum."
   ]
  },
  {
   "cell_type": "markdown",
   "metadata": {},
   "source": [
    "This behaviour can be explored using the interactive plot below:"
   ]
  },
  {
   "cell_type": "code",
   "execution_count": null,
   "metadata": {},
   "outputs": [],
   "source": [
    "from panel_plots import ab_distortion"
   ]
  },
  {
   "cell_type": "code",
   "execution_count": null,
   "metadata": {
    "pycharm": {
     "name": "#%%\n"
    }
   },
   "outputs": [],
   "source": [
    "# from nmrsim.discrete import AB"
   ]
  },
  {
   "cell_type": "code",
   "execution_count": null,
   "metadata": {
    "pycharm": {
     "name": "#%%\n"
    }
   },
   "outputs": [],
   "source": [
    "# def ab_wrapper(v1, v2, J):\n",
    "#     vab = abs(v2 - v1)\n",
    "#     vcentr = (v1 + v2) / 2\n",
    "#     peaklist = AB(J, vab, vcentr)\n",
    "#     return peaklist"
   ]
  },
  {
   "cell_type": "code",
   "execution_count": null,
   "metadata": {
    "pycharm": {
     "name": "#%%\n"
    }
   },
   "outputs": [],
   "source": [
    "# def ab_distortion(v1 = 100, v2 = 500):\n",
    "# # Placeholders for the HTML codes for nu_1 and nu_2\n",
    "# # &nu;&#x2081;\n",
    "# # &nu;&#x2082;\n",
    "#     v1_arrow = hv.Arrow(v1,0, 'ν₁', '^')\n",
    "#     v2_arrow = hv.Arrow(v2,0, 'ν₂', '^')\n",
    "#     datapoints = max(int(abs(v2 - v1) * 100), 800)  # sufficient datapoints to mitigate inaccurate intensities and \"jittering\"\n",
    "\n",
    "#     coupled = lineshape_from_peaklist(ab_wrapper(v1, v2, 10), points=datapoints)\n",
    "#     plot = hv.Curve(zip(*coupled)) * v1_arrow * v2_arrow\n",
    "#     return plot.options(axiswise=True, invert_xaxis=True,\n",
    "#                        xlabel='𝜈').redim(y=hv.Dimension('intensity', range=(-0.4, 1.2)))"
   ]
  },
  {
   "cell_type": "code",
   "execution_count": null,
   "metadata": {
    "pycharm": {
     "name": "#%%\n"
    }
   },
   "outputs": [],
   "source": [
    "ab_distortion_interactive = pn.interact(ab_distortion, v1=(0, 600, 0.1, 100), v2=(0, 600, 0.1, 500))\n",
    "\n",
    "ab_distortion_interactive"
   ]
  },
  {
   "cell_type": "markdown",
   "metadata": {},
   "source": [
    "- As you drag the frequency sliders closer to each other, you will see the \"roofing\" effect become more pronounced. The arrows indicating the frequencies for each nucleus will also move away from the midpoint of each signal and closer to the larger, inner peak. When the difference between $\\nu_1$ and $\\nu_2$ is ~ 17 Hz, the signal could easily be mistaken for an *n* + 1 \"quartet\" (see below), and an AB signal with clear second-order behavior is often referred to as an **AB quartet**.\n",
    "- When the difference between $\\nu_1$ and $\\nu_2$ is ~ 4 Hz, the outer peaks are very small and could easily be missed if the baseline was noisy or if other signals were nearby. The two inner peaks are starting to collapse together. This could easily be misidentified as a ~2 proton doublet, since the outer peaks don't contribute much to the total area. The small distance between the two inner peaks could be misinterpreted as a small J coupling."
   ]
  },
  {
   "cell_type": "markdown",
   "metadata": {},
   "source": [
    "## ABX\n",
    "\n",
    "This is a very common pattern. For example, if two diastereotopic protons are coupled to a third proton, this pattern can result. One common substructure that exhibits an ABX pattern is a methylene group next to a methine stereocenter (below, left). Many amino acids have this structural feature (below, right)."
   ]
  },
  {
   "cell_type": "markdown",
   "metadata": {},
   "source": [
    "<img src='img/ABX.png' style='width: 400px;'>"
   ]
  },
  {
   "cell_type": "markdown",
   "metadata": {},
   "source": [
    "The interactive plot below shows a typical ABX pattern. \n",
    "\n",
    "- If you slide the vb slider down to 50 Hz, the AB portion is tweezed apart into two doublet of doublets \"leaning\" toward each other. Such a system could safely be analyzed as a set of 3 dd, one for each A, B, and X signal.\n",
    "\n",
    "- Change vb back to 90 Hz. Here, the chemical shift difference between $H_A$ and $H_B$ is less than twice $J_{AB}$, and if it were analyzed as a first-order pattern you would start to see small discrepancies. \n",
    "\n",
    "- Change vb to 102 Hz. To accurately determine the chemical shifts and coupling constants from this signal, a more elaborate calculation is required. If you are interested in the details, this type of calculation is described in detail [here](https://www.chem.wisc.edu/areas/reich/nmr/05-hmr-12-abx.htm) . At this point, the AB signal more strongly resembles two sets of overlapping AB quartets. The first, third, fourth, and seventh peaks from left to right (the two smallest and the two largest peaks) are one AB quartet, the second, 5th, 6th, and 8th are the other. Solving these patterns involves identifying the two pairs of AB quartets and solving them first.\n",
    "\n",
    "- Change vb to 106.5 Hz. At this point, one of the two AB quartets has collapsed to a singlet, and the AB part of the ABX spectrum reduces to 5 peaks total, with two being very small. This could easily be mistaken for a singlet and a doublet.\n",
    "\n",
    "- Take a close look at the X part of the spectrum (the leftmost signal centered at 200 Hz). It often will resemble a doublet of doublets, but there are two smaller peaks towards the outside that could easily be lost in the baseline noise. "
   ]
  },
  {
   "cell_type": "code",
   "execution_count": null,
   "metadata": {},
   "outputs": [],
   "source": [
    "from panel_plots import abx"
   ]
  },
  {
   "cell_type": "code",
   "execution_count": null,
   "metadata": {},
   "outputs": [],
   "source": [
    "abx_interactive = pn.interact(abx, \n",
    "                              va=(0, 600, 0.1, 110), \n",
    "                              vb=(0, 600, 0.1, 90),\n",
    "                              vx=(0, 600, 0.1, 200),\n",
    "                              Jax=(-20, 20, 0.1, 5),\n",
    "                              Jbx=(-20, 20, 0.1, 10),\n",
    "                              Jab=(-20, 20, 0.1, 13))\n",
    "\n",
    "# pn.Row(abx_interactive[0], abx_interactive[1])\n",
    "pn.Row(\n",
    "    pn.Column(abx_interactive[0], width_policy='min'), \n",
    "    pn.Column(abx_interactive[1], width_policy='max'), \n",
    "    width_policy='max')"
   ]
  },
  {
   "cell_type": "markdown",
   "metadata": {},
   "source": [
    "{decide how much of original notebook, and of first order notebook, on second-oder, Pople nomenclature etc. to include in this notebook}"
   ]
  },
  {
   "cell_type": "markdown",
   "metadata": {},
   "source": [
    "### Magnetic Equivalence\n",
    "\n",
    "If two chemical shift-equivalent nuclei have identical coupling constants to *each and every* other nucleus in the spin system, they are magnetically equivalent; if not, they are magnetically inequivalent.\n",
    "\n",
    "In the case of chloroethane, the two methylene protons are magnetically equivalent: on average, they see the three methyl protons to the same extent, and have the same *J* coupling to them. For the same reason, the three methyl protons are magnetically equivalent as well.\n",
    "\n",
    "A common case where chemical shift-equivalent protons are *not* magnetically-equivalent is with *para*-disubstituted benzenes. In the example below, protons $H_1$ and $H_2$ are chemical shift-equivalent, and $H_3$ and $H_4$ are chemical shift-equivalent as well. However, the size of $J$ couplings between these sets of protons vary. For example, the *ortho-* $J_{13}$ coupling is typically around 7 Hz, whereas the *para-* $J_{23}$ coupling is typically very small (close to zero). Therefore $H_1$ and $H_2$ are magnetically inequivalent, because they couple to $H_3$ differently."
   ]
  },
  {
   "cell_type": "markdown",
   "metadata": {},
   "source": [
    "<img src='img/magnetic_inequivalence.png' style='width: 300px;'>"
   ]
  },
  {
   "cell_type": "code",
   "execution_count": null,
   "metadata": {},
   "outputs": [],
   "source": []
  },
  {
   "cell_type": "markdown",
   "metadata": {},
   "source": [
    "## AA'XX'\n",
    "\n",
    "This is a very common second-order pattern. We'll look at two of the more common situations in which this can arise.\n",
    "\n",
    "In *para*-disubstituted benzenes, at low resolution, a pair of doublets is seen, and it is commonly analyzed as such. At higher resolution, the appearance of the signals becomes more complex. Usually, each signal looks like a doublet with a small AB quartet superimposed on it. You can use the zoom tool to expand one of the two \"doublets\" in the AAXX system shown below to see the extra peaks.\n"
   ]
  },
  {
   "cell_type": "code",
   "execution_count": null,
   "metadata": {},
   "outputs": [],
   "source": [
    "from panel_plots import para_benzene"
   ]
  },
  {
   "cell_type": "code",
   "execution_count": null,
   "metadata": {},
   "outputs": [],
   "source": [
    "para_benzene()"
   ]
  },
  {
   "cell_type": "markdown",
   "metadata": {},
   "source": [
    "In acyclic systems, an X-CH<sub>2</sub>-CH<sub>2</sub>-Y unit does not necessarily appear as a pair of triplets.\n",
    "\n",
    "- If the two methylene signals are close together in chemical shift, significant distortions appear. The interactive plot below should load as a \"messtet\" of two signals at 90 Hz and 110 Hz. Slide va lower and/or vx higher. As separation increases, the signals start to resemble a pair of triplets. Keep going until va is 50 Hz and vx is 200 Hz."
   ]
  },
  {
   "cell_type": "code",
   "execution_count": null,
   "metadata": {},
   "outputs": [],
   "source": [
    "# from panel_plots import anti_gauche_wrapper"
   ]
  },
  {
   "cell_type": "code",
   "execution_count": null,
   "metadata": {},
   "outputs": [],
   "source": [
    "# anti_gauche_interactive = pn.interact(anti_gauche_wrapper, \n",
    "# #                               va=(0, 600, 0.1, 90), \n",
    "# #                               vx=(0, 600, 0.1, 110),\n",
    "# #                               Jaa=(0, 12, 0.1, -13.0),\n",
    "# #                               Jxx=(0, 12, 0.1, -13.0),\n",
    "#                               Jax=(0, 12, 0.1, 5.5),\n",
    "#                               Jax_prime=(0, 12, 0.1, 5.5))\n",
    "\n",
    "# pn.Column(\n",
    "#     pn.Row(anti_gauche_interactive[0], width_policy='min'), \n",
    "#     pn.Row(anti_gauche_interactive[1], width_policy='max'), \n",
    "#     width_policy='max')"
   ]
  },
  {
   "cell_type": "code",
   "execution_count": null,
   "metadata": {},
   "outputs": [],
   "source": [
    "from panel_plots import anti_gauche"
   ]
  },
  {
   "cell_type": "code",
   "execution_count": null,
   "metadata": {},
   "outputs": [],
   "source": [
    "anti_gauche_interactive = pn.interact(anti_gauche, \n",
    "                              va=(0, 600, 0.1, 90), \n",
    "                              vx=(0, 600, 0.1, 110),\n",
    "#                               Jaa=(0, 12, 0.1, -13.0),\n",
    "#                               Jxx=(0, 12, 0.1, -13.0),\n",
    "                              Jax=(0, 12, 0.1, 5.5),\n",
    "                              Jax_prime=(0, 12, 0.1, 5.5))\n",
    "\n",
    "pn.Column(\n",
    "    pn.Row(anti_gauche_interactive[0], width_policy='min'), \n",
    "    pn.Row(anti_gauche_interactive[1], width_policy='max'), \n",
    "    width_policy='max')"
   ]
  },
  {
   "cell_type": "markdown",
   "metadata": {},
   "source": [
    "When there is no strong conformational preference for anti over gauche conformers (rotating about the C-C bond), you will often see this first-order behavior of two triplets. The $J_{AX}$ and $J_{AX'}$ values of 5.5 are a weighted average of the coupling constants seen in the rapidly-interconverting anti- and gauche- conformers of equal population (33 1/3 % of each). As a bias towards anti- or towards gauche- conformations increases, the signals deviate from a triplet appearance. \n",
    "\n",
    "- Continuing with the interactive plot above, change Jax to 3.2 Hz and Jax_prime to 10.1 Hz. This simulates a system that has an 80% preference for the anti-conformation. The signal has changed appearance, with the outermost peaks being larger than the inner peaks. This is a very common situation that suggests a second-order effect is in play--a normal n+1 multiplet has the smallest peaks on the outside, and gets larger towards the middle. Sometimes such second-order signals are called \"Batman\" signals because of their superficial resemblance to Batman's silhouette:\n",
    "\n",
    "<img src='img/batman.png' style='width: 300px;'>"
   ]
  },
  {
   "cell_type": "markdown",
   "metadata": {},
   "source": [
    "A more thorough description of this behavior can be found at [Prof. Reich's NMR website](https://www.chem.wisc.edu/areas/reich/nmr/05-hmr-15-aabb.htm)."
   ]
  },
  {
   "cell_type": "code",
   "execution_count": null,
   "metadata": {},
   "outputs": [],
   "source": []
  }
 ],
 "metadata": {
  "kernelspec": {
   "display_name": "jupyterhub",
   "language": "python",
   "name": "jupyterhub"
  },
  "language_info": {
   "codemirror_mode": {
    "name": "ipython",
    "version": 3
   },
   "file_extension": ".py",
   "mimetype": "text/x-python",
   "name": "python",
   "nbconvert_exporter": "python",
   "pygments_lexer": "ipython3",
   "version": "3.7.7"
  }
 },
 "nbformat": 4,
 "nbformat_minor": 4
}
