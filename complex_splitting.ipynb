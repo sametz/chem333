{
 "cells": [
  {
   "cell_type": "markdown",
   "metadata": {},
   "source": [
    "# When the \"*n* + 1\" Rule Doesn't Apply: More Complicated Splitting Patterns"
   ]
  },
  {
   "cell_type": "markdown",
   "metadata": {},
   "source": [
    "## **Instructions:** From the \"Cell\" dropdown menu, select  \"Run All\". The interactive plots that accompany the text will be activated."
   ]
  },
  {
   "cell_type": "markdown",
   "metadata": {},
   "source": [
    "This tutorial borrows, or has adapted, many of its examples from Prof. Hans Reich's (U. Wisconsin-Madison) NMR website: \n",
    "\n",
    "https://www.chem.wisc.edu/areas/reich/chem605/index.htm\n",
    "\n",
    "This is an invaluable resource for anyone wanting to \"level up\" their NMR knowledge!"
   ]
  },
  {
   "cell_type": "code",
   "execution_count": 1,
   "metadata": {},
   "outputs": [],
   "source": [
    "import numpy as np"
   ]
  },
  {
   "cell_type": "code",
   "execution_count": 2,
   "metadata": {},
   "outputs": [],
   "source": [
    "import nbinteract as nbi"
   ]
  },
  {
   "cell_type": "code",
   "execution_count": 3,
   "metadata": {},
   "outputs": [],
   "source": [
    "nbi.hist?"
   ]
  },
  {
   "cell_type": "code",
   "execution_count": 4,
   "metadata": {},
   "outputs": [],
   "source": [
    "def hist_response_function(mean, sd, size=1000):\n",
    "    '''\n",
    "    Returns 1000 values picked at random from the normal\n",
    "    distribution with the mean and SD given.\n",
    "    '''\n",
    "    return np.random.normal(loc=mean, scale=sd, size=1000)"
   ]
  },
  {
   "cell_type": "code",
   "execution_count": 5,
   "metadata": {},
   "outputs": [
    {
     "data": {
      "application/vnd.jupyter.widget-view+json": {
       "model_id": "89afb5affba4418daba442fdb6b19fca",
       "version_major": 2,
       "version_minor": 0
      },
      "text/plain": [
       "VBox(children=(interactive(children=(IntSlider(value=5, description='mean', max=10), FloatSlider(value=1.0, de…"
      ]
     },
     "metadata": {},
     "output_type": "display_data"
    }
   ],
   "source": [
    "nbi.hist(hist_response_function, mean=(0, 10), sd=(0, 2.0, 0.2))"
   ]
  },
  {
   "cell_type": "code",
   "execution_count": 3,
   "metadata": {},
   "outputs": [
    {
     "data": {
      "text/html": [
       "<script type=\"text/javascript\">window.PlotlyConfig = {MathJaxConfig: 'local'};</script><script type=\"text/javascript\">if (window.MathJax) {MathJax.Hub.Config({SVG: {font: \"STIX-Web\"}});}</script><script>requirejs.config({paths: { 'plotly': ['https://cdn.plot.ly/plotly-latest.min']},});if(!window._Plotly) {require(['plotly'],function(plotly) {window._Plotly=plotly;});}</script>"
      ],
      "text/vnd.plotly.v1+html": [
       "<script type=\"text/javascript\">window.PlotlyConfig = {MathJaxConfig: 'local'};</script><script type=\"text/javascript\">if (window.MathJax) {MathJax.Hub.Config({SVG: {font: \"STIX-Web\"}});}</script><script>requirejs.config({paths: { 'plotly': ['https://cdn.plot.ly/plotly-latest.min']},});if(!window._Plotly) {require(['plotly'],function(plotly) {window._Plotly=plotly;});}</script>"
      ]
     },
     "metadata": {},
     "output_type": "display_data"
    }
   ],
   "source": [
    "from ipywidgets import interact  #, interactive\n",
    "# from plotly.offline import init_notebook_mode\n",
    "\n",
    "# init_notebook_mode(connected=True)"
   ]
  },
  {
   "cell_type": "markdown",
   "metadata": {},
   "source": [
    "For many of the simple molecules you'll encounter in CHEM333, the \"n + 1\" rule can be used to predict or interpret the multiplicity of an NMR signal. However, this rule very often does not hold. For the \"*n* + 1\" to be applicable:\n",
    "\n",
    "- all neighboring nuclei must split the signal to the same extent (i.e. all *J* coupling constants must be the same)\n",
    "- all chemical shift-equivalent nuclei must also be magnetically equivalent (see below)\n",
    "\n",
    "The \"*n* + 1\" is most reliable for acyclic alkyl groups, where bond rotation is rapid and no strong conformational preference exists. Coupling constants of ~7 Hz are typical in these systems. "
   ]
  },
  {
   "cell_type": "markdown",
   "metadata": {},
   "source": [
    "More complicated systems where the n + 1 rule doesn't hold fall into two categories:\n",
    "\n",
    "1. *First-order*: the signal can be deconvoluted into individual \"n + 1\" multiplet splittings, with different multiplets for different *J* couplings. Accurate chemical shifts and coupling constants can be determined directly from the chemical shifts/frequencies (the x-axis coordinate).\n",
    "\n",
    "2. *Second-order*: \"true\" chemical shifts and coupling constants cannot be determined by direct measurement. This is common in systems where:\n",
    "  - the size of *J* is around, or greater than, the size of the chemical shift difference between coupled protons (in Hz).\n",
    "  - there are chemical shift-equivalent protons that are not magnetically-equivalent. \n"
   ]
  },
  {
   "cell_type": "markdown",
   "metadata": {},
   "source": [
    "## First-Order Multiplets"
   ]
  },
  {
   "cell_type": "markdown",
   "metadata": {},
   "source": [
    "### Two couplings: doublet of doublets (dd)\n",
    "\n",
    "When a proton is split by two neighboring nuclei, but to different degrees (i.e. the two *J* coupling constants are different), a doublet of doublets pattern results: 4 peaks of equal intensity (1 : 1 : 1 : 1).\n",
    "\n",
    "For any first-order multiplet:\n",
    "- the multiplet is centrosymmetric (i.e. symmetric left-right). The center of the multiplet is the chemical shift for the proton--in the absence of any splitting, a singlet would appear at this frequency.\n",
    "- the ratios of peak areas (with the smallest peak = 1) should add up to a power of 2. In the case of a doublet of doublets, 1 + 1 + 1 + 1 = 4 = $2^2$.\n"
   ]
  },
  {
   "cell_type": "code",
   "execution_count": 6,
   "metadata": {
    "scrolled": false
   },
   "outputs": [
    {
     "data": {
      "application/vnd.jupyter.widget-view+json": {
       "model_id": "a3fc65bf936243b19a60e69a7063d0d5",
       "version_major": 2,
       "version_minor": 0
      },
      "text/plain": [
       "VBox(children=(interactive(children=(FloatSlider(value=10.0, description='J1', max=20.0), FloatSlider(value=10…"
      ]
     },
     "metadata": {},
     "output_type": "display_data"
    }
   ],
   "source": [
    "from nbi_plots import nbi_dd\n",
    "\n",
    "# interactive(interactive_dd, J1=(0, 20, 0.1), J2=(0, 20, 0.1), w=(0.1, 1, 0.1))\n",
    "\n",
    "# def x_values(max): return np.arange(0, max)\n",
    "x_values = np.linspace(85, 115, 8000)\n",
    "# def y_values(xs, sd):\n",
    "#     return xs + np.random.normal(0, scale=sd, size=len(xs))\n",
    "y_values = nbi_dd\n",
    "\n",
    "# opts = {\n",
    "#     'xlim': (0, 50),\n",
    "#     'ylim': (0, 55),\n",
    "#     'animation_duration': 250,\n",
    "# }\n",
    "opts = {}\n",
    "nbi.line(x_values, y_values, J1=(0, 20, 0.1), J2=(0, 20, 0.1), w=(0.1, 1, 0.1), options=opts)"
   ]
  },
  {
   "cell_type": "code",
   "execution_count": 5,
   "metadata": {},
   "outputs": [
    {
     "data": {
      "application/vnd.jupyter.widget-view+json": {
       "model_id": "35a3634287774478bb5a833fe23342c4",
       "version_major": 2,
       "version_minor": 0
      },
      "text/plain": [
       "VBox(children=(interactive(children=(IntSlider(value=30, description='max', max=50, min=10), IntSlider(value=5…"
      ]
     },
     "metadata": {},
     "output_type": "display_data"
    }
   ],
   "source": [
    "def x_values(max): return np.arange(0, max)\n",
    "def y_values(xs, sd):\n",
    "    return xs + np.random.normal(0, scale=sd, size=len(xs))\n",
    "\n",
    "opts = {\n",
    "    'xlim': (0, 50),\n",
    "    'ylim': (0, 55),\n",
    "    'animation_duration': 250,\n",
    "}\n",
    "nbi.line(x_values, y_values, max=(10, 50), sd=(1, 10), options=opts)"
   ]
  },
  {
   "cell_type": "code",
   "execution_count": null,
   "metadata": {},
   "outputs": [],
   "source": [
    "# space"
   ]
  },
  {
   "cell_type": "markdown",
   "metadata": {},
   "source": [
    "#### Exercise: doublet of doublets\n",
    "\n",
    "The plot above should initialize as a dd for 1 H, with $J_1 = 3$ Hz and $J_2 = 7$ Hz. In these simulated examples, the height of each peak (0.25) happens to be proportional to the area (CAUTION: this is often not true in real spectra because line widths can differ). The relative intensities are 0.25 : 0.25 : 0.25 : 0.25, or 1 : 1 : 1 : 1.\n",
    "\n",
    "* Drag both *J* sliders to 0 (or, type \"0\" in the fields to the right of each slider and hit \"Return\" or \"Enter\" on your keyboard). You should see the signal collapse to a singlet at 100 Hz. If the x axis started at 0 Hz for TMS, and the spectrometer were a 100 MHz spectrometer, this would correspond to a chemical shift of 1 ppm. Note the height of the signal (an approximation of its total area) is now 1. In the absence of any splitting, this proton will only resonate at this one frequency, and its integration would be normalized as 1 H.\n",
    "\n",
    "* Now, drag the $J_2$ slider back to 7 Hz. A doublet with a 7-Hz splitting results. Each peak is half intensity, and would integrate to 0.5 H. This means that half of the nuclei are resonating 3.5 Hz lower than 100 MHz, and half 3.5 Hz higher. The signal is centrosymmetric about 100 MHz.\n",
    "\n",
    "* Drag the $J_1$ slider to about 0.5 Hz. Each peak in the previous doublet has started to split into doublets themselves. When the size of the splitting is small compared to the peak width (set to 0.5 Hz, and controlled by the \"w\" slider), you won't see complete separation of the peaks, and in a real spectrum if the signal-to-noise ratio is small enough it can be difficult to determine if this is a \"real\" splitting or not.\n",
    "\n",
    "* Drag the $J_1$ slider back to 3 Hz. The signals are now well separated, and the dd pattern is clear. When analyzing such first-order multiplets, start by measuring the distance between the first two peaks (or the last two), and the distance between the first and third peaks (or the last and third-last). These distances, in Hz, will be two coupling constants. In the dd case, this completes the analysis--the two splittings can be measured as 3 and 7 Hz, and the center of the signal (in ppm) would be the chemical shift. \n",
    "\n",
    "In the chemical literature, coupling constants are listed in order from largest to smallest, and the corresponding splitting (d for doublet, t, for triplet, q for quartet etc. ) follow the same order. This signal would be reported (if this were a 100-MHz spectrometer) as: \"$\\delta$ 1.00 ppm (1H, dd, *J* = 7.0, 3.0 Hz)\".\n",
    "\n",
    "* Drag the $J_1$ slider to 7 Hz. Now that both coupling constants are the same, the inner two peaks overlap to form a double-intensity signal, and the 1 : 2 : 1 triplet pattern results. The patterns that result from the *n* + 1 rule (doublets, quartets, quintets) are the special cases that result when coupling constants are the same size. \n",
    "\n",
    "Note that a proton may have two different neighbors (protons that are not related by symmetry or exchanged by rotation) that coincidentally have the same *J* value, or very similar. Sometimes spectra taken on more powerful spectrometers can appear more complicated because these small differences can be detected. \n",
    "\n",
    "* Drag the $J_1$ slider slightly back, to 6.5 Hz. The triplet has started to break up. On a spectrometer with poorer resolution, this may still look like a triplet, or like a \"squashed triplet\" with the middle peak being a bit shorter and broader. Slide the \"w\" setting up to 1.00 Hz to simulate this effect.\n",
    "\n"
   ]
  },
  {
   "cell_type": "markdown",
   "metadata": {},
   "source": [
    "### Three couplings: doublet of doublet of doublets (ddd)\n",
    "The plot below is an example of a ddd pattern with no coincedental overlap. There are 8 peaks of equal intensity. 8 is $2^3$, so there are three couplings.\n",
    "\n",
    "If you could measure the distances in Hz between peaks, how would you go about analyzing such a signal? You can start \"untangling the knot\" by realizing:\n",
    "- the distance between the first two peaks is the smallest coupling constant (here, $J_1$)\n",
    "- every peak will be half of a doublet with a splitting of $J_1$\n",
    "- if the effect of this splitting is removed, the signal will reduce in complexity (here, to a dd)\n",
    "- repeat the process until all coupling constants are determined\n",
    "\n",
    "This is often shown graphically with a \"tree diagram\", as shown below."
   ]
  },
  {
   "cell_type": "markdown",
   "metadata": {},
   "source": [
    "<img src='img/ddd2.png' style=\"width: 600px;\">"
   ]
  },
  {
   "cell_type": "markdown",
   "metadata": {},
   "source": [
    "If you had a spectrum with peak picking in Hz, then $J_1$ would be the difference in frequency between the first and second peaks, $J_2$ the distance between the first and third, and $J_3$ the distance between the first and fourth. **This will not always be the case**. However, the distance between the first two (or last two) peaks will always be a true coupling constant (in a first-order multiplet)."
   ]
  },
  {
   "cell_type": "markdown",
   "metadata": {},
   "source": [
    "You can graphically simulate this thought process by manipulating the plot below. First, change J1 to 0 Hz to remove the smallest doublet splitting and simplify the multiplet to a dd. Then, change J2 to 0 to simplify to a d, and finally change J3 to 0 to collapse the signal all the way to a singlet."
   ]
  },
  {
   "cell_type": "code",
   "execution_count": null,
   "metadata": {
    "scrolled": false
   },
   "outputs": [],
   "source": [
    "from plots import interactive_ddd\n",
    "\n",
    "interactive(interactive_ddd, J1=(0, 20, 0.1), J2=(0, 20, 0.1), J3=(0, 20, 0.1))"
   ]
  },
  {
   "cell_type": "markdown",
   "metadata": {},
   "source": [
    "Coincidental overlap can reduce the number of peaks in the ddd pattern.\n",
    "\n",
    "Adjust the sliders in the above simulation so that J1 and J2 = 10 Hz, and J3 = 4 Hz. The resulting pattern is a triplet of doublets, and would be reported as \"td, *J* = 10.0, 4.0 Hz\". Note that the coupling constants are listed in order from largest to smallest, and so the multiplicities are listed as \"td\" and not \"dt\". The ratio of the peak intensities is 1:1:2:2:1:1, which adds up to 8.\n",
    "\n",
    "Adjust the J2 slider to 4 Hz. The resulting signal is a doublet of triplets, with peak intensities in the ratio of 1:2:1:1:2:1. This would be reported as \"dt, *J* = 10.0, 4.0 Hz\". Note the importance of listing the multiplicities in the correct order (td vs dt) to properly describe the appearance of the signal.\n",
    "\n",
    "Adjust the J1 slider to 8 Hz. There is now coincidental overlap of two of the peaks (the inner two peaks of relative intensity 1 are now a single peak with a relative intensity of 2). This would still be considered a doublet of triplets. Note how it almost looks like an \"*n* + 1\" pentet, but the intensities are wrong (1:2:2:2:1 for the dt, vs. 1:4:6:4:1 for a pentet)."
   ]
  },
  {
   "cell_type": "code",
   "execution_count": null,
   "metadata": {},
   "outputs": [],
   "source": [
    "from plots import interactive_dddd\n",
    "\n",
    "interactive(interactive_dddd, J1=(0, 20, 0.1), J2=(0, 20, 0.1), J3=(0, 20, 0.1), J4=(0, 20, 0.1))"
   ]
  },
  {
   "cell_type": "code",
   "execution_count": null,
   "metadata": {},
   "outputs": [],
   "source": [
    "# TODO: dddd examples"
   ]
  },
  {
   "cell_type": "markdown",
   "metadata": {},
   "source": [
    "## Second-Order Patterns\n",
    "\n",
    "The main goal of this section of the tutorial is to be able to predict if a molecule's spectrum may have a non-first order spectrum, and also to be able to spot \"second-order weirdness\" when you see it in a spectrum.\n",
    "\n",
    "In order to talk about second-order NMR spectra, and be able to predict when second-order effects can be expected, we need to define the following terms:\n",
    "- chemical shift equivalence/non-equivalence\n",
    "- magnetic equivalence/non-equivalence"
   ]
  },
  {
   "cell_type": "markdown",
   "metadata": {},
   "source": [
    "### Chemical Shift Equivalence\n",
    "\n",
    "If two nuclei exhibit the exact same chemical shift, either because there is a symmetry element in the molecule, or because of rapid exchange, they are \"chemical shift equivalent\". The protons of the methyl group are equivalent because rapid rotation about the C-C bond exchanges them, and on average they will have the same chemical shift:"
   ]
  },
  {
   "cell_type": "markdown",
   "metadata": {},
   "source": [
    "<img src='img/homotopic.png' style='width: 600px;'>"
   ]
  },
  {
   "cell_type": "markdown",
   "metadata": {},
   "source": [
    "Chloroethane (Cl-CH<sub>2</sub>-CH<sub>3</sub>) has two sets of chemical shift-equivalent protons. The protons of the downfield methylene group are chemical shift-equivalent because there is a mirror plane of symmetry relating them:"
   ]
  },
  {
   "cell_type": "markdown",
   "metadata": {},
   "source": [
    "<img src='img/enantiotopic.png' style='width: 600px;'>"
   ]
  },
  {
   "cell_type": "markdown",
   "metadata": {},
   "source": [
    "##### Homotopic, Enantiotopic, and Diastereotopic Nuclei: The Substitution Test\n",
    "\n",
    "In the case of chloroethane, the protons of the methyl group are *homotopic*: they will have the same chemical shift, even if they are placed in a chiral environment (e.g. in a chiral solvent, or inside an enzyme's active site). \n",
    "\n",
    "The methylene protons are *enantiotopic*: they will have the same chemical shift *in an achiral environment*. However, in the presence of a chiral environment, they can have different chemical shifts. \n",
    "\n",
    "If there is no element of symmetry or exchange between two geminal protons, they are *diastereotopic* and will always be chemical-shift inequivalent (although they may coincidentally have chemical shifts to close to distinguish). \n",
    "\n",
    "One way to check if two protons are homotopic, enantiotopic, or diastereotopic is to substitute one of the protons with another atom such as Cl or D. Then, perform the substitution with the other proton instead. \n",
    "\n",
    "- if both substitutions give the same result, the protons were homotopic. For example, substitution of any of the three methyl protons in chloroethane with deuterium give the same molecule, Cl-CH<sub>2</sub>-CH<sub>2</sub>-D."
   ]
  },
  {
   "cell_type": "markdown",
   "metadata": {},
   "source": [
    "<img src='img/homotopic_substitution.png'>"
   ]
  },
  {
   "cell_type": "markdown",
   "metadata": {},
   "source": [
    "Homotopic protons will have the same chemical shift, even if they are placed in a chiral environment (e.g. in a chiral solvent, or inside an enzyme's active site).\n",
    "\n",
    "- if the substitutions give different enantiomers, the protons were enantiotopic. For example, substitution of a methylene proton in chloroethane with fluorine will give either *(R)*- or *(S)*-1-chloro-1-fluoroethane."
   ]
  },
  {
   "cell_type": "markdown",
   "metadata": {},
   "source": [
    "<img src='img/enantiotopic_substitution.png' style='width: 600px;'>"
   ]
  },
  {
   "cell_type": "markdown",
   "metadata": {},
   "source": [
    "- if the substitutions give diastereomers, the protons were diastereotopic. For example, the methylene protons in *(R)*-2-bromobutane are diastereotopic:"
   ]
  },
  {
   "cell_type": "markdown",
   "metadata": {},
   "source": [
    "<img src='img/diastereotopic_substitution.png' style='width: 600px;'>"
   ]
  },
  {
   "cell_type": "markdown",
   "metadata": {},
   "source": [
    "Diastereotopic protons will always be chemical-shift inequivalent (although they may coincidentally have chemical shifts to close to distinguish). "
   ]
  },
  {
   "cell_type": "markdown",
   "metadata": {},
   "source": [
    "### Magnetic Equivalence\n",
    "\n",
    "If two chemical shift-equivalent nuclei have identical coupling constants to *each and every* other nucleus in the spin system, they are magnetically equivalent; if not, they are magnetically inequivalent.\n",
    "\n",
    "In the case of chloroethane, the two methylene protons are magnetically equivalent: on average, they see the three methyl protons to the same extent, and have the same *J* coupling to them. For the same reason, the three methyl protons are magnetically equivalent as well.\n",
    "\n",
    "A common case where chemical shift-equivalent protons are *not* magnetically-equivalent is with *para*-disubstituted benzenes. In the example below, protons $H_1$ and $H_2$ are chemical shift-equivalent, and $H_3$ and $H_4$ are chemical shift-equivalent as well. However, the size of $J$ couplings between these sets of protons vary. For example, the *ortho-* $J_{13}$ coupling is typically around 7 Hz, whereas the *para-* $J_{23}$ coupling is typically very small (close to zero). Therefore $H_1$ and $H_2$ are magnetically inequivalent, because they couple to $H_3$ differently."
   ]
  },
  {
   "cell_type": "markdown",
   "metadata": {},
   "source": [
    "<img src='img/magnetic_inequivalence.png' style='width: 300px;'>"
   ]
  },
  {
   "cell_type": "markdown",
   "metadata": {},
   "source": [
    "## Second-Order Patterns  <br>\n",
    "\n",
    "### Pople Nomenclature\n",
    "\n",
    "We can describe \"spin systems\" (groups of coupled nuclei) using \"Pople nomenclature\": a naming scheme that groups the nuclei by chemical shift and magnetic equivalence. As examples of what Pople nomenclature looks like,here are some common systems that display second-order effects:\n",
    "\n",
    "- AB (\"AB quartet\")\n",
    "- ABX\n",
    "- ABX<sub>3</sub>\n",
    "- AA'XX'\n"
   ]
  },
  {
   "cell_type": "markdown",
   "metadata": {},
   "source": [
    "#### Chemical Shift Equivalence\n",
    "\n",
    "In Pople nomenclature, different capital letters of the alphabet refer to nuclei exhibiting different chemical shifts. If two or more nuclei are chemical shift-equivalent and magnetically equivalent, a subscript follows the letter to indicate the number.\n",
    "\n",
    "If two nuclei are far apart in chemical shift, letters far apart in the alphabet are chosen (commonly: AX for two nuclei; AMX for three nuclei). If they are close in chemical shift (where their separation in Hz approaches the size of their coupling in Hz), letters close together in the alphabet are chosen (e.g. AB for two nuclei; ABX for two nuclei close in chemical shift, and one further away). \n",
    "\n",
    "Example: chloroethane (Cl-CH<sub>2</sub>-CH<sub>3</sub>) has an A<sub>2</sub>X<sub>3</sub> spin system. \n"
   ]
  },
  {
   "cell_type": "markdown",
   "metadata": {},
   "source": [
    "#### Magnetic Equivalence\n",
    "\n",
    "Chemical shift-equivalent nuclei that are magnetically inequivalent are distinguished by the use of **\\'** (\"prime\"), **\\'\\'** (\"double prime\") etc. For example, the protons of a *para-* disubstituted benzene are an AA'XX' system (\"A A-prime X X-prime\"). The couplings $J_{AX}$ and $J_{A'X}$ are different."
   ]
  },
  {
   "cell_type": "markdown",
   "metadata": {},
   "source": [
    "# AB\n",
    "\n",
    "This is a common pattern. For example, an isolated methylene group in a chiral molecule (i.e. where the two protons are diastereotopic) can display this pattern.\n",
    "\n",
    "When $J >> \\Delta \\nu$ (the chemical shift difference in Hz, not ppm), the pattern resembles two doublets. As the chemical shift difference becomes smaller, distortions appear. First, the inner peaks of this 4-peak signal grow larger as the outer peaks grow smaller. {In general, protons that are coupled show a \"leaning towards each other) effect like this that increases as the chemical shift difference decreases.} Second, the chemical shift of each proton is not exactly in the middle of the doublet, and as the two signals approach each other in chemical shift this difference becomes more pronounced.\n",
    "\n",
    "- In the interactive plot below, note that when $\\nu_1$ (v1) = 150 Hz (an arbitrary chemical shift in Hz, not ppm) and $\\nu_2$ (v2) = 50 Hz, the pattern resembles two doublets. The chemical shift difference (100 Hz) is much larger than the coupling (10 Hz), and the distortion is minimal--slight leaning of the signals toward each other, and the midpoints of the \"doublets\" being very close to 150 and 50 Hz.\n",
    "\n",
    "- Now, change v1 to 110 Hz and v2 to 90 Hz. The leaning is more pronounced, and could be mistaken for a first-order quartet. Such AB signals are commonly referred to as \"AB quartets\". Above and to the right of the plot is a toolbar. If you select the \"zoom\" tool and zoom in on the AB quartet, you can see that the midpoint of each doublet is now far off from 110 Hz / 90 Hz. The \"true\" chemical shifts (110 and 90 Hz) are much closer to the larger, inner peak than the smaller, outer peak. This means that, to calculate the exact chemical shift of each signal, a more sophisticated calculation is required (see: __[this page](https://www.chem.wisc.edu/areas/reich/nmr/05-hmr-10-ax-ab.htm)__ under \"5-HMR-10.4 Solving an AB pattern\" if you're interested)."
   ]
  },
  {
   "cell_type": "code",
   "execution_count": null,
   "metadata": {},
   "outputs": [],
   "source": [
    "from plots import interactive_AB\n",
    "interactive(interactive_AB, v1=(50, 150, 0.1), v2=(50, 150, 0.1), J=(0, 20, 0.1))"
   ]
  },
  {
   "cell_type": "markdown",
   "metadata": {},
   "source": [
    "- If you set v1 = 105 Hz and v2 = 87.8 Hz, the AB quartet will look exactly like a regular quartet that integrates for 2 protons. It would be easy to jump to the conclusion that this is the CH<sub>2</sub> of an ethyl group... but there would be no corresponding methyl triplet around 1 ppm.\n",
    "\n",
    "- Change v1 to 102 Hz and v2 to 98 Hz. The outer peaks are very small and could easily be missed if the baseline was noisy or if other signals were nearby. The two inner peaks are starting to collapse together. This could easily be misidentified as a ~2 proton doublet, since the outer peaks don't contribute much to the total area. The small distance between the two inner peaks could be misinterpreted as a small *J* coupling.\n",
    "\n",
    "One way to reveal an AB quartet is to take the spectrum on two different spectrometers with very different frequencies. \n",
    "\n",
    "- From the previous example, change v1 to 104 Hz and v2 to 96 Hz. This simulates doubling the spectrometer frequency (e.g. from 300 MHz to 600 MHz). The signal has a more obvious \"AB quartet look\", and the gap between the two inner peaks has increased (and thus is not a second-order doublet, since *J* values are constant)."
   ]
  },
  {
   "cell_type": "code",
   "execution_count": null,
   "metadata": {},
   "outputs": [],
   "source": [
    "# note: when v1=105, v2=87.8, J=10, the ABq looks like a regular q"
   ]
  },
  {
   "cell_type": "markdown",
   "metadata": {},
   "source": [
    "## ABX\n",
    "\n",
    "This is a very common pattern. For example, if two diastereotopic protons are coupled to a third proton, this pattern can result. One common substructure that exhibits an ABX pattern is a methylene group next to a methine stereocenter (below, left). Many amino acids have this structural feature (below, right)."
   ]
  },
  {
   "cell_type": "markdown",
   "metadata": {},
   "source": [
    "<img src='img/ABX.png' style='width: 400px;'>"
   ]
  },
  {
   "cell_type": "markdown",
   "metadata": {},
   "source": [
    "The interactive plot below shows a typical ABX pattern. \n",
    "\n",
    "- If you slide the vb slider down to 50 Hz, the AB portion is tweezed apart into two doublet of doublets \"leaning\" toward each other. Such a system could safely be analyzed as a set of 3 dd, one for each A, B, and X signal.\n",
    "\n",
    "- Change vb back to 90 Hz. Here, the chemical shift difference between $H_A$ and $H_B$ is less than twice $J_{AB}$, and if it were analyzed as a first-order pattern you would start to see small discrepancies. \n",
    "\n",
    "- Change vb to 102 Hz. To accurately determine the chemical shifts and coupling constants from this signal, a more elaborate calculation is required. If you are interested in the details, this type of calculation is described in detail here://link . At this point, the AB signal more strongly resembles two sets of overlapping AB quartets. The first, third, fourth, and seventh peaks from left to right (the two smallest and the two largest peaks) are one AB quartet, the second, 5th, 6th, and 8th are the other. Solving these patterns involves identifying the two pairs of AB quartets and solving them first.\n",
    "\n",
    "- Change vb to 106.5 Hz. At this point, one of the two AB quartets has collapsed to a singlet, and the AB part of the ABX spectrum reduces to 5 peaks total, with two being very small. This could easily be mistaken for a singlet and a doublet.\n",
    "\n",
    "- Take a close look at the X part of the spectrum (the leftmost signal centered at 200 Hz). It often will resemble a doublet of doublets, but there are two smaller peaks towards the outside that could easily be lost in the baseline noise. "
   ]
  },
  {
   "cell_type": "code",
   "execution_count": null,
   "metadata": {},
   "outputs": [],
   "source": [
    "from plots import interactive_ABX\n",
    "interactive(interactive_ABX, \n",
    "            va=(50, 150, 0.1), vb=(50, 150, 0.1), \n",
    "            Jax=(-20, 20, 0.1), Jbx=(-20, 20, 0.1), Jab=(-20, 20, 0.1))"
   ]
  },
  {
   "cell_type": "markdown",
   "metadata": {},
   "source": [
    "## AA'XX'"
   ]
  },
  {
   "cell_type": "markdown",
   "metadata": {},
   "source": [
    "This is a very common second-order pattern. We'll look at two of the more common situations in which this can arise."
   ]
  },
  {
   "cell_type": "markdown",
   "metadata": {},
   "source": [
    "In *para*-disubstituted benzenes, at low resolution, a pair of doublets is seen, and it is commonly analyzed as such. At higher resolution, the appearance of the signals becomes more complex. Usually, each signal looks like a doublet with a small AB quartet superimposed on it:\n"
   ]
  },
  {
   "cell_type": "code",
   "execution_count": null,
   "metadata": {},
   "outputs": [],
   "source": [
    "from plots import para_benzene\n",
    "interactive(para_benzene, \n",
    "            va=(0, 200, 0.1), vx=(0, 200, 0.1), \n",
    "            Jaa=(-20, 20, 0.1), Jxx=(-20, 20, 0.1), Jax=(-20, 20, 0.1), Jax_prime=(-20, 20, 0.1))"
   ]
  },
  {
   "cell_type": "markdown",
   "metadata": {},
   "source": [
    "In acyclic systems, an X-CH<sub>2</sub>-CH<sub>2</sub>-Y unit does not necessarily appear as a pair of triplets.\n",
    "\n",
    "- If the two methylene signals are close together in chemical shift, significant distortions appear. The interactive plot below should load as a \"messtet\" of two signals at 140 Hz and 160 Hz. Slide va lower and/or vx higher. As separation increases, the signals start to resemble a pair of triplets. Keep going until va is 15 Hz and vx is 200 Hz."
   ]
  },
  {
   "cell_type": "code",
   "execution_count": null,
   "metadata": {},
   "outputs": [],
   "source": [
    "from plots import anti_gauche\n",
    "interactive(anti_gauche, \n",
    "            va=(0, 200, 0.1), vx=(0, 200, 0.1), \n",
    "            Jaa=(-20, 20, 0.1), Jxx=(-20, 20, 0.1), Jax=(-20, 20, 0.1), Jax_prime=(-20, 20, 0.1))"
   ]
  },
  {
   "cell_type": "markdown",
   "metadata": {},
   "source": [
    "When there is no strong conformational preference for anti over gauche conformers (rotating about the C-C bond), you will often see this first-order behavior of two triplets. The $J_{AX}$ and $J_{AX'}$ values of 5.5 are a weighted average of the coupling constants seen in the rapidly-interconverting anti- and gauche- conformers of equal population (33 1/3 % of each). As a bias towards anti- or towards gauche- conformations increases, the signals deviate from a triplet appearance. \n",
    "\n",
    "- Continuing with the interactive plot above, change Jax to 3.2 Hz and Jax_prime to 10.1 Hz. This simulates a system that has an 80% preference for the anti-conformation. The signal has changed appearance, with the outermost peaks being larger than the inner peaks. This is a very common situation that suggests a second-order effect is in play--a normal n+1 multiplet has the smallest peaks on the outside, and gets larger towards the middle. Sometimes such second-order signals are called \"Batman\" signals because of their superficial resemblance to Batman's silhouette:\n",
    "\n",
    "<img src='img/batman.png' style='width: 300px;'>"
   ]
  },
  {
   "cell_type": "markdown",
   "metadata": {},
   "source": [
    "A more thorough description of this behavior can be found at [Prof. Reich's NMR website](https://www.chem.wisc.edu/areas/reich/nmr/05-hmr-15-aabb.htm)."
   ]
  },
  {
   "cell_type": "code",
   "execution_count": null,
   "metadata": {},
   "outputs": [],
   "source": []
  }
 ],
 "metadata": {
  "kernelspec": {
   "display_name": "Python [conda env:chem333] *",
   "language": "python",
   "name": "conda-env-chem333-py"
  },
  "language_info": {
   "codemirror_mode": {
    "name": "ipython",
    "version": 3
   },
   "file_extension": ".py",
   "mimetype": "text/x-python",
   "name": "python",
   "nbconvert_exporter": "python",
   "pygments_lexer": "ipython3",
   "version": "3.6.7"
  }
 },
 "nbformat": 4,
 "nbformat_minor": 2
}
