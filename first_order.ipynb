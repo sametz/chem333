{
 "cells": [
  {
   "cell_type": "markdown",
   "metadata": {
    "collapsed": true
   },
   "source": [
    "\n",
    "# First-Order Splitting Patterns in <sup>1</sup>H NMR Spectra"
   ]
  },
  {
   "cell_type": "markdown",
   "metadata": {},
   "source": [
    "## **Instructions:** From the \"Cell\" dropdown menu, select  \"Run All\". The interactive plots that accompany the text will be activated."
   ]
  },
  {
   "cell_type": "code",
   "execution_count": null,
   "metadata": {
    "pycharm": {
     "name": "#%%\n"
    }
   },
   "outputs": [],
   "source": [
    "from IPython.display import HTML"
   ]
  },
  {
   "cell_type": "code",
   "execution_count": null,
   "metadata": {},
   "outputs": [],
   "source": [
    "HTML('''<script>\n",
    "code_show=true; \n",
    "function code_toggle() {\n",
    " if (code_show){\n",
    " $('div.input').hide();\n",
    " } else {\n",
    " $('div.input').show();\n",
    " }\n",
    " code_show = !code_show\n",
    "} \n",
    "$( document ).ready(code_toggle);\n",
    "</script>\n",
    "The python code for this notebook is hidden by default. \n",
    "To toggle on/off the raw code, click <a href=\"javascript:code_toggle()\">here</a>.''')"
   ]
  },
  {
   "cell_type": "markdown",
   "metadata": {
    "pycharm": {
     "name": "#%% md\n"
    }
   },
   "source": [
    "This tutorial assumes the user is familiar with NMR spectroscopy at least up to the meaning of chemical shifts and signal integrations. Familiarity with the \"n + 1\" rule is helpful, but this will be covered in the tutorial."
   ]
  },
  {
   "cell_type": "code",
   "execution_count": null,
   "metadata": {},
   "outputs": [],
   "source": [
    "import numpy as np"
   ]
  },
  {
   "cell_type": "code",
   "execution_count": null,
   "metadata": {},
   "outputs": [],
   "source": [
    "import holoviews as hv\n",
    "import panel as pn\n",
    "hv.extension('bokeh', width=100)\n",
    "pn.extension()"
   ]
  },
  {
   "cell_type": "code",
   "execution_count": null,
   "metadata": {},
   "outputs": [],
   "source": [
    "from nmrsim.firstorder import multiplet\n",
    "from nmrsim.math import add_lorentzians\n"
   ]
  },
  {
   "cell_type": "markdown",
   "metadata": {
    "pycharm": {
     "name": "#%% md\n"
    }
   },
   "source": [
    "## What Is \"First-Order\" Behavior?\n",
    "\n",
    "To accurately model NMR spectra, quantum mechanical calculations are required. This is not something that can be done \"on the back of an envelope\" with a calculator and ruler. However, it is often possible to adequately interpret the spectra using a simpler physical model. We will describe and use this model in this tutorial. Spectra that closely follow this simpler model are said to follow \"first-order behavior\". The explanations that follow use this simplistic physical model.\n",
    "\n",
    "When the observed spectra cannot adequately be interpreted with this approximate model, they are said to follow \"second-order behavior\", and more complicated calculations are required to interpret them accurately. We will see an example of this after we introduce the concept of *J*-coupling, starting with the \"doublet\" pattern."
   ]
  },
  {
   "cell_type": "code",
   "execution_count": null,
   "metadata": {},
   "outputs": [],
   "source": [
    "def lineshape_from_peaklist(peaklist, w=0.5, points=800, limits=None):\n",
    "    \"\"\"\n",
    "\n",
    "    Parameters\n",
    "    ----------\n",
    "    peaklist : [(float, float)...]\n",
    "        A list of (frequency, intensity) tuples\n",
    "    w : float\n",
    "        Peak width at half height (Hz)\n",
    "    points : int\n",
    "        The number of data points in the lineshape\n",
    "    limits : (float, float)\n",
    "        The frequency (left/right) limits for the lineshape\n",
    "\n",
    "    Returns\n",
    "    -------\n",
    "    ([float...], [float...])\n",
    "        The lists of x coordinates (frequency) and corresponding y coordinates (intensity) for the lineshape.\n",
    "    \"\"\"\n",
    "    peaklist.sort()\n",
    "    if limits:\n",
    "        try:\n",
    "            l_limit, r_limit = limits\n",
    "            l_limit = float(l_limit)\n",
    "            r_limit = float(r_limit)\n",
    "        except Exception as e:\n",
    "            print(e)\n",
    "            print('limits must be a tuple of two numbers')\n",
    "            raise\n",
    "        if l_limit > r_limit:\n",
    "            l_limit, r_limit = r_limit, l_limit\n",
    "    else:\n",
    "        l_limit = peaklist[0][0] - 50\n",
    "        r_limit = peaklist[-1][0] + 50\n",
    "    x = np.linspace(l_limit, r_limit, points)\n",
    "    y = add_lorentzians(x, peaklist, w)\n",
    "    return x, y"
   ]
  },
  {
   "cell_type": "code",
   "execution_count": null,
   "metadata": {},
   "outputs": [],
   "source": [
    "def n_plus_one(J, n, v=100, i = 1, w=0.5):\n",
    "    singlet = (v, i)  # center at 100 Hz; intensity 1\n",
    "    couplings = [(J, n)]\n",
    "    peaklist = multiplet(singlet, couplings)\n",
    "    x, y = lineshape_from_peaklist(peaklist, w=w)\n",
    "    return hv.Curve(zip(x, y)).options(axiswise=True, invert_xaxis=True)"
   ]
  },
  {
   "cell_type": "markdown",
   "source": [
    "## *J* Couplings\n",
    "\n",
    "A nucleus can \"feel\" the magnetic moment of a neighboring //adjective nucleus. Spin-1/2 nuclei can be considered to be \"spin-up\" (\"α\"; aligned with the spectrometer's magnetic field) or \"spin-down\" (\"β\"; aligned against the spectrometer's magnetic field). The odds of a neighboring spin-1/2 nucleus being either spin-up or spin-down are very nearly equal. \n",
    "\n",
    "The small magnetic moment of neighboring nuclei affects the net magnetic field strengh that a nucleus experiences. If a nucleus has one such neighbor, there's close to a 50% chance that it will experience a slightly stronger total magnetic field, and a 50% chance of a slightly weaker magnetic field. That means that half the time the nucleus will resonate at a slightly higher frequency, and half the time at a slightly lower frequency. The two nuclei are said to be \"coupled\", and the size of the frequency difference between the high- and low-frequency peaks in Hz is referred to as the \"coupling constant\", or *J*-value.\n",
    "\n",
    "You can simulate this behavior using the plot below. In the absence of *J*-coupling, a single peak or \"singlet\" is seen. Check the box to toggle the *J* coupling to one neighbor on and off. Turning the coupling on changes the singlet to a two-peak \"doublet\".\n",
    "\n"
   ],
   "metadata": {
    "collapsed": false
   }
  },
  {
   "cell_type": "code",
   "execution_count": null,
   "outputs": [],
   "source": [
    "def toggle_doublet(coupled=False):\n",
    "    n = 1 if coupled else 0\n",
    "    return n_plus_one(10.0, n, w=0.5).redim(y=hv.Dimension('y', range=(-0.1, 1.1)))\n",
    "\n",
    "\n",
    "toggle_doublet_app = pn.interact(toggle_doublet, n=False)\n",
    "\n",
    "toggle_doublet_app"
   ],
   "metadata": {
    "collapsed": false,
    "pycharm": {
     "name": "#%%\n"
    }
   }
  },
  {
   "cell_type": "markdown",
   "source": [
    "Note that when the coupling is turned on, the intensities of the two peaks of the resulting doublet are half that of the original singlet. \n",
    "The signal appears as a singlet at 100 Hz in the absence of coupling, but two signals at 95 and 105 Hz in the presence of a 10-Hz *J* coupling.\n",
    "\n",
    "The simulations in this tutorial will use Hz as the x-axis. A signal at 100 Hz would appear at 100 Hz higher frequency than the signal for TMS (tetramethylsilane). In standard NMR spectra, the ppm (parts per million) scale is used instead. For <sup>1</sup>H NMR spectra, if you divide the frequency of the signal in Hz by the frequency of the spectrometer, you get the chemical shift in ppm. This 100-Hz signal would be 1 ppm on a 100 MHz spectrometer, but 0.25 ppm on a 400 MHz spectrometer (the standard spectrometer we use for CHEM333 lab samples)."
   ],
   "metadata": {
    "collapsed": false
   }
  },
  {
   "cell_type": "code",
   "execution_count": null,
   "outputs": [],
   "source": [
    "from nmrsim.discrete import AB"
   ],
   "metadata": {
    "collapsed": false,
    "pycharm": {
     "name": "#%%\n"
    }
   }
  },
  {
   "cell_type": "code",
   "execution_count": null,
   "outputs": [],
   "source": [
    "def ab_wrapper(v1, v2, J):\n",
    "    vab = abs(v2 - v1)\n",
    "    vcentr = (v1 + v2) / 2\n",
    "    peaklist = AB(J, vab, vcentr)\n",
    "    return peaklist"
   ],
   "metadata": {
    "collapsed": false,
    "pycharm": {
     "name": "#%%\n"
    }
   }
  },
  {
   "cell_type": "code",
   "execution_count": null,
   "outputs": [],
   "source": [
    "def ab_distortion(v1 = 100, v2 = 200):\n",
    "#     singlet_1 = multiplet((v1, 1), [(10, 0)])\n",
    "#     singlet_2 = multiplet((v2, 1), [(10, 0)])\n",
    "#     doublet_1 = multiplet((v1, 1), [(10, 1)])\n",
    "#     doublet_2 = multiplet((v2, 1), [(10, 1)])\n",
    "    v1_arrow = hv.Arrow(v1,0, 'v1', '^')\n",
    "    v2_arrow = hv.Arrow(v2,0, 'v2', '^')\n",
    "    datapoints = max(int(abs(v2 - v1) * 100), 800)  # sufficient datapoints to mitigate inaccurate intensities and \"jittering\"\n",
    "\n",
    "    coupled = lineshape_from_peaklist(ab_wrapper(v1, v2, 10), points=datapoints)\n",
    "    return hv.Curve(zip(*coupled)) * v1_arrow * v2_arrow"
   ],
   "metadata": {
    "collapsed": false,
    "pycharm": {
     "name": "#%%\n"
    }
   }
  },
  {
   "cell_type": "code",
   "execution_count": null,
   "outputs": [],
   "source": [
    "ab_distortion_interactive = pn.interact(ab_distortion, v1=(50, 350, 0.1, 50), v2=(50, 350, 0.1, 350))"
   ],
   "metadata": {
    "collapsed": false,
    "pycharm": {
     "name": "#%%\n"
    }
   }
  },
  {
   "cell_type": "code",
   "execution_count": null,
   "outputs": [],
   "source": [
    "ab_distortion_interactive"
   ],
   "metadata": {
    "collapsed": false,
    "pycharm": {
     "name": "#%%\n"
    }
   }
  },
  {
   "cell_type": "markdown",
   "source": [
    "## Origin of the \"n + 1\" Rule\n",
    "\n",
    "A neighboring spin-1/2 nuclei (e.g <sup>1</sup>H; <sup>13</sup>C) nucleus has close to a 50:50 chance of being spin-up vs. spin-down, with each state adding or subtracting to the overall strength of the magnetic field experienced by the nucleus of interest. The statistical chance of the nucleus of interest experiencing a certain magnetic field strength (and thus a certain frequency/chemical shift) resembles the statistical chance of head/tails coin flips. If you flip two coins, the possible results are:\n",
    "\n",
    "* both heads: 25%\n",
    "* one heads, one tails: 50%\n",
    "* both tails: 25%\n",
    "\n",
    "or 1 : 2 : 1. \n",
    "\n",
    "Similarly, if a proton has two proton neighbors, each of which can be either α or β, the odds are close to:\n",
    "\n",
    "* both α: 25%\n",
    "* one α, one β: 50 %\n",
    "* both β: 25%\n",
    "\n",
    "OR 1 : 2 : 1. \n",
    "\n",
    "For the plot below, drag the slider to change the number of neighbors n (each with a 10-Hz coupling) from 0 to 1 to 2. When n = 2, a \"triplet\" pattern with 1 : 2 : 1 intensities results. Compared to the intensity of the singlet in the absence of coupling, the triplet intensities are 0.25 : 0.5 : 0.25. Note that the integration of this signal will be 1 regardless of the number of splittings."
   ],
   "metadata": {
    "collapsed": false
   }
  },
  {
   "cell_type": "code",
   "execution_count": null,
   "outputs": [],
   "source": [
    "def singlet_to_triplet(n):\n",
    "    return n_plus_one(J=10.0, n=n, w=0.5).redim(y=hv.Dimension('y', range=(-0.1, 1.1)))"
   ],
   "metadata": {
    "collapsed": false,
    "pycharm": {
     "name": "#%%\n"
    }
   }
  },
  {
   "cell_type": "code",
   "execution_count": null,
   "outputs": [],
   "source": [
    "singlet_to_triplet_app = pn.interact(singlet_to_triplet, n=(0, 2, 1, 0))"
   ],
   "metadata": {
    "collapsed": false,
    "pycharm": {
     "name": "#%%\n"
    }
   }
  },
  {
   "cell_type": "code",
   "execution_count": null,
   "outputs": [],
   "source": [
    "singlet_to_triplet_app"
   ],
   "metadata": {
    "collapsed": false,
    "pycharm": {
     "name": "#%%\n"
    }
   }
  },
  {
   "cell_type": "code",
   "execution_count": null,
   "outputs": [],
   "source": [
    "def simple_multiplet(n):\n",
    "    return n_plus_one(J=7.0, n=n, w=0.5).redim(y=hv.Dimension('y', range=(-0.1, 1.1)))"
   ],
   "metadata": {
    "collapsed": false,
    "pycharm": {
     "name": "#%%\n"
    }
   }
  },
  {
   "cell_type": "markdown",
   "metadata": {},
   "source": [
    "simple_multiplet_app = pn.interact(simple_multiplet, n=(0, 9, 1, 1))\n"
   ]
  },
  {
   "cell_type": "code",
   "execution_count": null,
   "metadata": {},
   "outputs": [],
   "source": [
    "def toggle_doublet(coupled=False):\n",
    "    n = 1 if coupled else 0\n",
    "    return n_plus_one(10.0, n, w=0.5).redim(y=hv.Dimension('y', range=(-0.1, 1.1)))\n",
    "\n",
    "\n",
    "toggle_doublet_app = pn.interact(toggle_doublet, n=False)\n",
    "\n",
    "toggle_doublet_app"
   ]
  },
  {
   "cell_type": "markdown",
   "metadata": {},
   "source": [
    "Note that when the coupling is turned on, the intensities of the two peaks of the resulting doublet are half that of the original singlet. \n",
    "The signal appears as a singlet at 100 Hz in the absence of coupling, but two signals at 95 and 105 Hz in the presence of a 10-Hz *J* coupling.\n",
    "\n",
    "The simulations in this tutorial will use Hz as the x-axis. A signal at 100 Hz would appear at 100 Hz higher frequency than the signal for TMS (tetramethylsilane). In standard NMR spectra, the ppm (parts per million) scale is used instead. For <sup>1</sup>H NMR spectra, if you divide the frequency of the signal in Hz by the frequency of the spectrometer, you get the chemical shift in ppm. This 100-Hz signal would be 1 ppm on a 100 MHz spectrometer, but 0.25 ppm on a 400 MHz spectrometer (the standard spectrometer we use for CHEM333 lab samples)."
   ]
  },
  {
   "cell_type": "code",
   "execution_count": null,
   "metadata": {},
   "outputs": [],
   "source": [
    "from nmrsim.discrete import AB"
   ]
  },
  {
   "cell_type": "code",
   "execution_count": null,
   "metadata": {},
   "outputs": [],
   "source": [
    "def ab_wrapper(v1, v2, J):\n",
    "    vab = abs(v2 - v1)\n",
    "    vcentr = (v1 + v2) / 2\n",
    "    peaklist = AB(J, vab, vcentr)\n",
    "    return peaklist"
   ]
  },
  {
   "cell_type": "code",
   "execution_count": null,
   "metadata": {},
   "outputs": [],
   "source": [
    "def ab_distortion(v1 = 100, v2 = 200):\n",
    "#     singlet_1 = multiplet((v1, 1), [(10, 0)])\n",
    "#     singlet_2 = multiplet((v2, 1), [(10, 0)])\n",
    "#     doublet_1 = multiplet((v1, 1), [(10, 1)])\n",
    "#     doublet_2 = multiplet((v2, 1), [(10, 1)])\n",
    "    v1_arrow = hv.Arrow(v1,0, 'v1', '^')\n",
    "    v2_arrow = hv.Arrow(v2,0, 'v2', '^')\n",
    "    datapoints = max(int(abs(v2 - v1) * 100), 800)  # sufficient datapoints to mitigate inaccurate intensities and \"jittering\"\n",
    "\n",
    "    coupled = lineshape_from_peaklist(ab_wrapper(v1, v2, 10), points=datapoints)\n",
    "    return hv.Curve(zip(*coupled)) * v1_arrow * v2_arrow"
   ]
  },
  {
   "cell_type": "code",
   "execution_count": null,
   "metadata": {},
   "outputs": [],
   "source": [
    "ab_distortion_interactive = pn.interact(ab_distortion, v1=(50, 350, 0.1, 50), v2=(50, 350, 0.1, 350))"
   ]
  },
  {
   "cell_type": "code",
   "execution_count": null,
   "metadata": {},
   "outputs": [],
   "source": [
    "ab_distortion_interactive"
   ]
  },
  {
   "cell_type": "markdown",
   "metadata": {},
   "source": [
    "## Origin of the \"n + 1\" Rule\n",
    "\n",
    "A neighboring spin-1/2 nuclei (e.g <sup>1</sup>H; <sup>13</sup>C) nucleus has close to a 50:50 chance of being spin-up vs. spin-down, with each state adding or subtracting to the overall strength of the magnetic field experienced by the nucleus of interest. The statistical chance of the nucleus of interest experiencing a certain magnetic field strength (and thus a certain frequency/chemical shift) resembles the statistical chance of head/tails coin flips. If you flip two coins, the possible results are:\n",
    "\n",
    "* both heads: 25%\n",
    "* one heads, one tails: 50%\n",
    "* both tails: 25%\n",
    "\n",
    "or 1 : 2 : 1. \n",
    "\n",
    "Similarly, if a proton has two proton neighbors, each of which can be either α or β, the odds are close to:\n",
    "\n",
    "* both α: 25%\n",
    "* one α, one β: 50 %\n",
    "* both β: 25%\n",
    "\n",
    "OR 1 : 2 : 1. \n",
    "\n",
    "For the plot below, drag the slider to change the number of neighbors n (each with a 10-Hz coupling) from 0 to 1 to 2. When n = 2, a \"triplet\" pattern with 1 : 2 : 1 intensities results. Compared to the intensity of the singlet in the absence of coupling, the triplet intensities are 0.25 : 0.5 : 0.25. Note that the integration of this signal will be 1 regardless of the number of splittings."
   ]
  },
  {
   "cell_type": "code",
   "execution_count": null,
   "metadata": {},
   "outputs": [],
   "source": [
    "def singlet_to_triplet(n):\n",
    "    return n_plus_one(J=10.0, n=n, w=0.5).redim(y=hv.Dimension('y', range=(-0.1, 1.1)))"
   ]
  },
  {
   "cell_type": "code",
   "execution_count": null,
   "metadata": {},
   "outputs": [],
   "source": [
    "singlet_to_triplet_app = pn.interact(singlet_to_triplet, n=(0, 2, 1, 0))"
   ]
  },
  {
   "cell_type": "code",
   "execution_count": null,
   "metadata": {},
   "outputs": [],
   "source": [
    "singlet_to_triplet_app"
   ]
  },
  {
   "cell_type": "code",
   "execution_count": null,
   "metadata": {},
   "outputs": [],
   "source": [
    "def simple_multiplet(n):\n",
    "    return n_plus_one(J=7.0, n=n, w=0.5).redim(y=hv.Dimension('y', range=(-0.1, 1.1)))"
   ]
  },
  {
   "cell_type": "code",
   "execution_count": null,
   "metadata": {},
   "outputs": [],
   "source": [
    "simple_multiplet_app = pn.interact(simple_multiplet, n=(0, 9, 1, 1))\n"
   ]
  },
  {
   "cell_type": "code",
   "execution_count": null,
   "metadata": {},
   "outputs": [],
   "source": [
    "simple_multiplet_row = pn.Row(simple_multiplet_app, width_policy='max')\n"
   ]
  },
  {
   "cell_type": "code",
   "execution_count": null,
   "metadata": {},
   "outputs": [],
   "source": [
    "simple_multiplet_row"
   ]
  },
  {
   "cell_type": "code",
   "execution_count": null,
   "metadata": {},
   "outputs": [],
   "source": []
  }
 ],
 "metadata": {
  "kernelspec": {
   "display_name": "jupyterhub",
   "language": "python",
   "name": "jupyterhub"
  },
  "language_info": {
   "codemirror_mode": {
    "name": "ipython",
    "version": 3
   },
   "file_extension": ".py",
   "mimetype": "text/x-python",
   "name": "python",
   "nbconvert_exporter": "python",
   "pygments_lexer": "ipython3",
   "version": "3.7.7"
  }
 },
 "nbformat": 4,
 "nbformat_minor": 1
}