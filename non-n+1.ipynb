{
 "cells": [
  {
   "cell_type": "code",
   "execution_count": 1,
   "metadata": {},
   "outputs": [
    {
     "data": {
      "text/html": [
       "<script>requirejs.config({paths: { 'plotly': ['https://cdn.plot.ly/plotly-latest.min']},});if(!window.Plotly) {{require(['plotly'],function(plotly) {window.Plotly=plotly;});}}</script>"
      ],
      "text/vnd.plotly.v1+html": [
       "<script>requirejs.config({paths: { 'plotly': ['https://cdn.plot.ly/plotly-latest.min']},});if(!window.Plotly) {{require(['plotly'],function(plotly) {window.Plotly=plotly;});}}</script>"
      ]
     },
     "metadata": {},
     "output_type": "display_data"
    }
   ],
   "source": [
    "# import os\n",
    "# import sys\n",
    "\n",
    "from ipywidgets import interactive\n",
    "# import matplotlib as mpl\n",
    "# import matplotlib.pyplot as plt\n",
    "# import numpy as np\n",
    "# import plotly\n",
    "# import plotly.graph_objs as go\n",
    "# from plotly.offline import download_plotlyjs, init_notebook_mode, plot, iplot\n",
    "from plotly.offline import init_notebook_mode\n",
    "\n",
    "# module_path = os.path.abspath(os.path.join('..'))\n",
    "# if module_path not in sys.path:\n",
    "#     sys.path.append(module_path)\n",
    "\n",
    "# from nmrtools.nmrmath import first_order\n",
    "# from nmrtools.nmrplot import add_signals, dnmrplot_AB\n",
    "\n",
    "init_notebook_mode(connected=True)"
   ]
  },
  {
   "cell_type": "markdown",
   "metadata": {},
   "source": [
    "# When the \"*n* + 1\" Rule Doesn't Apply: More Complicated Splitting Patterns"
   ]
  },
  {
   "cell_type": "markdown",
   "metadata": {},
   "source": [
    "For many of the simple molecules you'll encounter in CHEM333, the \"n + 1\" rule can be used to predict or interpret the multiplicity of an NMR signal. However, this rule very often does not hold. For the \"*n* + 1\" to be applicable:\n",
    "\n",
    "- all neighboring nuclei must split the signal to the same extent (i.e. all *J* coupling constants must be the same)\n",
    "- all chemical shift-equivalent nuclei must also be magnetically equivalent (see below)\n",
    "\n",
    "The \"*n* + 1\" is most reliable for acyclic alkyl groups, where free and rapid bond rotation averages all coupling constants out to be ~7 Hz. "
   ]
  },
  {
   "cell_type": "markdown",
   "metadata": {},
   "source": [
    "More complicated systems where the n + 1 rule doesn't hold fall into two categories:\n",
    "\n",
    "1. *First-order*: the signal can be deconvoluted into individual \"n + 1\" multiplet splittings, with different multiplets for different *J* couplings. Accurate chemical shifts and coupling constants can be determined directly from the chemical shifts/frequencies (the x-axis coordinate).\n",
    "\n",
    "2. *Second-order*: \"true\" chemical shifts and coupling constants cannot be determined by direct measurement. This is common in systems where:\n",
    "  - the size of *J* is around, or greater than, the size of the chemical shift difference between coupled protons (in Hz).\n",
    "  - there are chemical shift-equivalent protons that are not magnetically-equivalent. \n"
   ]
  },
  {
   "cell_type": "markdown",
   "metadata": {},
   "source": [
    "## First-Order Multiplets"
   ]
  },
  {
   "cell_type": "markdown",
   "metadata": {},
   "source": [
    "### Two couplings: doublet of doublets (dd)\n",
    "\n",
    "Passersby were amazed by the unusually large amounts of blood.\n"
   ]
  },
  {
   "cell_type": "code",
   "execution_count": 2,
   "metadata": {},
   "outputs": [
    {
     "data": {
      "application/vnd.jupyter.widget-view+json": {
       "model_id": "c2da2dd06a85424b86baab371ba3428a",
       "version_major": 2,
       "version_minor": 0
      },
      "text/plain": [
       "interactive(children=(FloatSlider(value=3.0, description='J1', max=20.0), FloatSlider(value=7.0, description='…"
      ]
     },
     "metadata": {},
     "output_type": "display_data"
    }
   ],
   "source": [
    "from plots import interactive_dd\n",
    "\n",
    "interactive(interactive_dd, J1=(0, 20, 0.1), J2=(0, 20, 0.1))"
   ]
  },
  {
   "cell_type": "markdown",
   "metadata": {},
   "source": [
    "### Three couplings: doublet of doublet of doublets (ddd)\n",
    "Passersby were amazed by the unusually large amounts of blood."
   ]
  },
  {
   "cell_type": "code",
   "execution_count": 3,
   "metadata": {},
   "outputs": [
    {
     "data": {
      "application/vnd.jupyter.widget-view+json": {
       "model_id": "b417930fecf049f5a2ae3515db40c952",
       "version_major": 2,
       "version_minor": 0
      },
      "text/plain": [
       "interactive(children=(FloatSlider(value=3.0, description='J1', max=20.0), FloatSlider(value=7.0, description='…"
      ]
     },
     "metadata": {},
     "output_type": "display_data"
    }
   ],
   "source": [
    "from plots import interactive_ddd\n",
    "\n",
    "interactive(interactive_ddd, J1=(0, 20, 0.1), J2=(0, 20, 0.1), J3=(0, 20, 0.1))"
   ]
  },
  {
   "cell_type": "code",
   "execution_count": 4,
   "metadata": {},
   "outputs": [
    {
     "ename": "NameError",
     "evalue": "name 'first_order' is not defined",
     "output_type": "error",
     "traceback": [
      "\u001b[0;31m---------------------------------------------------------------------------\u001b[0m",
      "\u001b[0;31mNameError\u001b[0m                                 Traceback (most recent call last)",
      "\u001b[0;32m<ipython-input-4-638736ca4e84>\u001b[0m in \u001b[0;36m<module>\u001b[0;34m\u001b[0m\n\u001b[1;32m      4\u001b[0m     \u001b[0;34m(\u001b[0m\u001b[0;36m7.0\u001b[0m\u001b[0;34m,\u001b[0m \u001b[0;36m1\u001b[0m\u001b[0;34m)\u001b[0m   \u001b[0;31m# one coupling of 7.0 Hz\u001b[0m\u001b[0;34m\u001b[0m\u001b[0m\n\u001b[1;32m      5\u001b[0m ]\n\u001b[0;32m----> 6\u001b[0;31m \u001b[0mdd_signal\u001b[0m \u001b[0;34m=\u001b[0m \u001b[0mfirst_order\u001b[0m\u001b[0;34m(\u001b[0m\u001b[0mfreq_int\u001b[0m\u001b[0;34m,\u001b[0m \u001b[0mcouplings\u001b[0m\u001b[0;34m)\u001b[0m\u001b[0;34m\u001b[0m\u001b[0m\n\u001b[0m\u001b[1;32m      7\u001b[0m \u001b[0mdd_signal\u001b[0m\u001b[0;34m\u001b[0m\u001b[0m\n",
      "\u001b[0;31mNameError\u001b[0m: name 'first_order' is not defined"
     ]
    }
   ],
   "source": [
    "freq_int = (100.0, 1.0)  # The signal is centered at 100 Hz and integrates to 1 H\n",
    "couplings = [\n",
    "    (3.0, 1),  # one coupling of 3.0 Hz\n",
    "    (7.0, 1)   # one coupling of 7.0 Hz\n",
    "]\n",
    "dd_signal = first_order(freq_int, couplings)\n",
    "dd_signal"
   ]
  },
  {
   "cell_type": "code",
   "execution_count": null,
   "metadata": {},
   "outputs": [],
   "source": [
    "x = np.linspace(85, 115, 800)\n",
    "y = add_signals(x, dd_signal, 0.5)\n",
    "obj = go.Scatter(x=x, y=y)\n",
    "data = [obj]\n",
    "iplot(data)"
   ]
  },
  {
   "cell_type": "code",
   "execution_count": null,
   "metadata": {},
   "outputs": [],
   "source": [
    "def interactive_dd(J1=3.0, J2=7.0):\n",
    "    args = (J1, J2)\n",
    "    x = np.linspace(85, 115, 800)\n",
    "    signal = (100.0, 1)\n",
    "    couplings = [(J1, 1), (J2, 1)]\n",
    "    spectrum = first_order(signal, couplings)\n",
    "    y = add_signals(x, spectrum, 0.5)\n",
    "    obj = go.Scatter(x=x, y=y)\n",
    "    data = [obj]\n",
    "    iplot(data)"
   ]
  },
  {
   "cell_type": "code",
   "execution_count": null,
   "metadata": {},
   "outputs": [],
   "source": [
    "interactive_dd()"
   ]
  },
  {
   "cell_type": "code",
   "execution_count": null,
   "metadata": {},
   "outputs": [],
   "source": [
    "interactive(interactive_dd, J1=(0, 20, 0.1), J2=(0, 20, 0.1))"
   ]
  },
  {
   "cell_type": "code",
   "execution_count": null,
   "metadata": {},
   "outputs": [],
   "source": [
    "args = (\n",
    "    200,  # v1\n",
    "    100,  # v2\n",
    "    10,   # J\n",
    "    0.1,  # k\n",
    "    0.5   # W\n",
    ")\n"
   ]
  },
  {
   "cell_type": "code",
   "execution_count": null,
   "metadata": {},
   "outputs": [],
   "source": [
    "x, y = dnmrplot_AB(*args)\n",
    "obj = go.Scatter(x=x, y=y)\n",
    "data = [obj]\n",
    "# figure = go.Figure(data=data)\n",
    "iplot(data)"
   ]
  },
  {
   "cell_type": "code",
   "execution_count": null,
   "metadata": {},
   "outputs": [],
   "source": [
    "def interactive_ab(v1=200, v2=100, J=10, k=0.1, W=0.5):\n",
    "    args = (v1, v2, J, k, W)\n",
    "    x, y = dnmrplot_AB(*args)\n",
    "    obj = go.Scatter(x=x, y=y)\n",
    "    data = [obj]\n",
    "    iplot(data)"
   ]
  },
  {
   "cell_type": "code",
   "execution_count": null,
   "metadata": {},
   "outputs": [],
   "source": [
    "interactive_ab()\n"
   ]
  },
  {
   "cell_type": "code",
   "execution_count": null,
   "metadata": {},
   "outputs": [],
   "source": [
    "interactive(interactive_ab, k=(0.1, 1000))"
   ]
  },
  {
   "cell_type": "code",
   "execution_count": null,
   "metadata": {},
   "outputs": [],
   "source": []
  }
 ],
 "metadata": {
  "kernelspec": {
   "display_name": "Python [conda env:chem333]",
   "language": "python",
   "name": "conda-env-chem333-py"
  },
  "language_info": {
   "codemirror_mode": {
    "name": "ipython",
    "version": 3
   },
   "file_extension": ".py",
   "mimetype": "text/x-python",
   "name": "python",
   "nbconvert_exporter": "python",
   "pygments_lexer": "ipython3",
   "version": "3.6.6"
  }
 },
 "nbformat": 4,
 "nbformat_minor": 1
}
