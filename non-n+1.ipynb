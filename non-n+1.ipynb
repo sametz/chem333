{
 "cells": [
  {
   "cell_type": "code",
   "execution_count": 1,
   "metadata": {},
   "outputs": [
    {
     "data": {
      "text/html": [
       "<script>requirejs.config({paths: { 'plotly': ['https://cdn.plot.ly/plotly-latest.min']},});if(!window.Plotly) {{require(['plotly'],function(plotly) {window.Plotly=plotly;});}}</script>"
      ],
      "text/vnd.plotly.v1+html": [
       "<script>requirejs.config({paths: { 'plotly': ['https://cdn.plot.ly/plotly-latest.min']},});if(!window.Plotly) {{require(['plotly'],function(plotly) {window.Plotly=plotly;});}}</script>"
      ]
     },
     "metadata": {},
     "output_type": "display_data"
    }
   ],
   "source": [
    "# import os\n",
    "# import sys\n",
    "\n",
    "from ipywidgets import interactive\n",
    "# import matplotlib as mpl\n",
    "# import matplotlib.pyplot as plt\n",
    "# import numpy as np\n",
    "# import plotly\n",
    "# import plotly.graph_objs as go\n",
    "# from plotly.offline import download_plotlyjs, init_notebook_mode, plot, iplot\n",
    "from plotly.offline import init_notebook_mode\n",
    "\n",
    "# module_path = os.path.abspath(os.path.join('..'))\n",
    "# if module_path not in sys.path:\n",
    "#     sys.path.append(module_path)\n",
    "\n",
    "# from nmrtools.nmrmath import first_order\n",
    "# from nmrtools.nmrplot import add_signals, dnmrplot_AB\n",
    "\n",
    "init_notebook_mode(connected=True)"
   ]
  },
  {
   "cell_type": "markdown",
   "metadata": {},
   "source": [
    "# When the \"*n* + 1\" Rule Doesn't Apply: More Complicated Splitting Patterns"
   ]
  },
  {
   "cell_type": "markdown",
   "metadata": {},
   "source": [
    "For many of the simple molecules you'll encounter in CHEM333, the \"n + 1\" rule can be used to predict or interpret the multiplicity of an NMR signal. However, this rule very often does not hold. For the \"*n* + 1\" to be applicable:\n",
    "\n",
    "- all neighboring nuclei must split the signal to the same extent (i.e. all *J* coupling constants must be the same)\n",
    "- all chemical shift-equivalent nuclei must also be magnetically equivalent (see below)\n",
    "\n",
    "The \"*n* + 1\" is most reliable for acyclic alkyl groups, where free and rapid bond rotation averages all coupling constants out to be ~7 Hz. "
   ]
  },
  {
   "cell_type": "markdown",
   "metadata": {},
   "source": [
    "More complicated systems where the n + 1 rule doesn't hold fall into two categories:\n",
    "\n",
    "1. *First-order*: the signal can be deconvoluted into individual \"n + 1\" multiplet splittings, with different multiplets for different *J* couplings. Accurate chemical shifts and coupling constants can be determined directly from the chemical shifts/frequencies (the x-axis coordinate).\n",
    "\n",
    "2. *Second-order*: \"true\" chemical shifts and coupling constants cannot be determined by direct measurement. This is common in systems where:\n",
    "  - the size of *J* is around, or greater than, the size of the chemical shift difference between coupled protons (in Hz).\n",
    "  - there are chemical shift-equivalent protons that are not magnetically-equivalent. \n"
   ]
  },
  {
   "cell_type": "markdown",
   "metadata": {},
   "source": [
    "## First-Order Multiplets"
   ]
  },
  {
   "cell_type": "markdown",
   "metadata": {},
   "source": [
    "### Two couplings: doublet of doublets (dd)\n",
    "\n",
    "When a proton is split by two neighboring nuclei, but to different degrees (i.e. the two *J* coupling constants are different), a doublet of doublets pattern results: 4 peaks of equal intensity (1 : 1 : 1 : 1).\n",
    "\n",
    "For any first-order multiplet:\n",
    "- the multiplet is centrosymmetric (i.e. symmetric left-right). The center of the multiplet is the chemical shift for the proton--in the absence of any splitting, a singlet would appear at this frequency.\n",
    "- the ratios of peak areas (with the smallest peak = 1) should add up to a power of 2. In the case of a doublet of doublets, 1 + 1 + 1 + 1 = 4 = $2^2$.\n"
   ]
  },
  {
   "cell_type": "markdown",
   "metadata": {},
   "source": [
    "#### Exercise: doublet of doublets\n",
    "\n",
    "The plot below should initialize as a dd for 1 H, with $J_1 = 3$ Hz and $J_2 = 7$ Hz. In these simulated examples, the height of each peak (0.25) happens to be proportional to the area (CAUTION: this is often not true in real spectra because line widths can differ). The relative intensities are 0.25 : 0.25 : 0.25 : 0.25, or 1 : 1 : 1 : 1.\n",
    "\n",
    "Drag both sliders to 0 (or, type \"0\" in the fields to the right of each slider and hit \"Return\" or \"Enter\" on your keyboard). You should see the signal collaps to a singlet at 100 Hz. If the x axis started at 0 Hz for TMS, and the spectrometer were a 100 MHz spectrometer, this would correspond to a chemical shift of 1 ppm. Note the height of the signal (an approximation of its total area) is now 1. In the absence of any splitting, this proton will only resonate at this one frequency, and its integration would be normalized as 1 H.\n",
    "\n",
    "Now, drag the $J_2$ slider back to 7 Hz. A doublet with a 7-Hz splitting results. Each peak is half intensity, and would integrate to 0.5 H. This means that half of the nuclei are resonating 3.5 Hz lower than 100 MHz, and half 3.5 Hz higher. The signal is centrosymmetric about 100 MHz.\n",
    "\n",
    "Drag the $J_1$ slider to about 0.5 Hz. Each peak in the previous doublet has started to split into doublets themselves. When the size of the splitting is small compared to the peak width (set to 0.5 Hz, and controlled by the \"w\" slider), you won't see complete separation of the peaks, and in a real spectrum if the signal-to-noise ratio is small enough it can be difficult to determine if this is a \"real\" splitting or not.\n",
    "\n",
    "Drag the $J_1$ slider back to 3 Hz. The signals are now well separated, and the dd pattern is clear. When analyzing such first-order multiplets, start by measuring the distance between the first two peaks (or the last two), and the distance between the first and third peaks (or the last and third-last). These distances, in Hz, will be two coupling constants. In the dd case, this completes the analysis--the two splittings can be measured as 3 and 7 Hz, and the center of the signal (in ppm) would be the chemical shift. It would be reported (if this were a 100-MHz spectrometer) as: \"$d$ 1.00 ppm (1H, dd, *J* = 7.0, 3.0 Hz)\".\n",
    "\n",
    "Drag the $J_1$ slider to 7 Hz. Now that both coupling constants are the same, the inner two peaks overlap to form a double-intensity signal, and the 1 : 2 : 1 triplet pattern results. The patterns that result from the *n* + 1 rule (doublets, quartets, quintets) are the special cases that result when coupling constants are the same size. \n",
    "\n",
    "Note that a proton may have two different neighbors (protons that are not related by symmetry or exchanged by rotation) that coincidentally have the same *J* value, or very similar. Sometimes spectra taken on more powerful spectrometers can appear more complicated because these small differences can be detected. Drag the $J_1$ slider slightly back, to 6.5 Hz. The triplet has started to break up. On a spectrometer with poorer resolution, this may still look like a triplet, or like a \"squashed triplet\" with the middle peak being a bit shorter and broader. Slide the \"w\" setting up to 1.00 Hz to simulate this effect.\n",
    "\n"
   ]
  },
  {
   "cell_type": "code",
   "execution_count": 2,
   "metadata": {},
   "outputs": [
    {
     "data": {
      "application/vnd.jupyter.widget-view+json": {
       "model_id": "174a63bfca0d426f8c9ea2f01380af16",
       "version_major": 2,
       "version_minor": 0
      },
      "text/plain": [
       "interactive(children=(FloatSlider(value=3.0, description='J1', max=20.0), FloatSlider(value=7.0, description='…"
      ]
     },
     "metadata": {},
     "output_type": "display_data"
    }
   ],
   "source": [
    "from plots import interactive_dd\n",
    "\n",
    "interactive(interactive_dd, J1=(0, 20, 0.1), J2=(0, 20, 0.1), w=(0.1, 1, 0.1))"
   ]
  },
  {
   "cell_type": "markdown",
   "metadata": {},
   "source": [
    "### Three couplings: doublet of doublet of doublets (ddd)\n",
    "The plot below is an example of a ddd pattern with no coincedental overlap. There are 8 peaks of equal intensity. 8 is $2^3$, so there are three couplings.\n",
    "\n",
    "If you could measure the distances in Hz between peaks, how would you go about analyzing such a signal? You can start \"untangling the knot\" by realizing:\n",
    "- the distance between the first two peaks is the smallest coupling constant (here, $J_1$)\n",
    "- every peak will be half of a doublet with a splitting of $J_1$\n",
    "- if the effect of this splitting is removed, the signal will reduce in complexity (here, to a dd)\n",
    "- repeat the process until all coupling constants are determined\n",
    "\n",
    "This is often shown graphically with a \"tree diagram\", as shown below."
   ]
  },
  {
   "cell_type": "markdown",
   "metadata": {},
   "source": [
    "<img src='img/ddd2.png'>"
   ]
  },
  {
   "cell_type": "markdown",
   "metadata": {},
   "source": [
    "If you had a spectrum with peak picking in Hz, then $J_1$ would be the difference in frequency between the first and second peaks, $J_2$ the distance between the first and third, and $J_3$ the distance between the first and fourth. **This will not always be the case**. However, the distance between the first two (or last two) peaks will always be a true coupling constant (in a first-order multiplet)."
   ]
  },
  {
   "cell_type": "markdown",
   "metadata": {},
   "source": [
    "You can graphically simulate this thought process by manipulating the plot below. First, change J1 to 0 Hz to remove the smallest doublet splitting and simplify the multiplet to a dd. Then, change J2 to 0 to simplify to a d, and finally change J3 to 0 to collapse the signal all the way to a singlet."
   ]
  },
  {
   "cell_type": "code",
   "execution_count": 3,
   "metadata": {},
   "outputs": [
    {
     "data": {
      "application/vnd.jupyter.widget-view+json": {
       "model_id": "bd2322b9256e452fa85bfd64f16f564e",
       "version_major": 2,
       "version_minor": 0
      },
      "text/plain": [
       "interactive(children=(FloatSlider(value=4.0, description='J1', max=20.0), FloatSlider(value=10.0, description=…"
      ]
     },
     "metadata": {},
     "output_type": "display_data"
    }
   ],
   "source": [
    "from plots import interactive_ddd\n",
    "\n",
    "interactive(interactive_ddd, J1=(0, 20, 0.1), J2=(0, 20, 0.1), J3=(0, 20, 0.1))"
   ]
  },
  {
   "cell_type": "code",
   "execution_count": 5,
   "metadata": {},
   "outputs": [],
   "source": [
    "# todo: td J=10, 4; dt J=10,4; dt J=8,4"
   ]
  },
  {
   "cell_type": "code",
   "execution_count": 4,
   "metadata": {},
   "outputs": [
    {
     "ename": "NameError",
     "evalue": "name 'first_order' is not defined",
     "output_type": "error",
     "traceback": [
      "\u001b[0;31m---------------------------------------------------------------------------\u001b[0m",
      "\u001b[0;31mNameError\u001b[0m                                 Traceback (most recent call last)",
      "\u001b[0;32m<ipython-input-4-638736ca4e84>\u001b[0m in \u001b[0;36m<module>\u001b[0;34m\u001b[0m\n\u001b[1;32m      4\u001b[0m     \u001b[0;34m(\u001b[0m\u001b[0;36m7.0\u001b[0m\u001b[0;34m,\u001b[0m \u001b[0;36m1\u001b[0m\u001b[0;34m)\u001b[0m   \u001b[0;31m# one coupling of 7.0 Hz\u001b[0m\u001b[0;34m\u001b[0m\u001b[0m\n\u001b[1;32m      5\u001b[0m ]\n\u001b[0;32m----> 6\u001b[0;31m \u001b[0mdd_signal\u001b[0m \u001b[0;34m=\u001b[0m \u001b[0mfirst_order\u001b[0m\u001b[0;34m(\u001b[0m\u001b[0mfreq_int\u001b[0m\u001b[0;34m,\u001b[0m \u001b[0mcouplings\u001b[0m\u001b[0;34m)\u001b[0m\u001b[0;34m\u001b[0m\u001b[0m\n\u001b[0m\u001b[1;32m      7\u001b[0m \u001b[0mdd_signal\u001b[0m\u001b[0;34m\u001b[0m\u001b[0m\n",
      "\u001b[0;31mNameError\u001b[0m: name 'first_order' is not defined"
     ]
    }
   ],
   "source": [
    "freq_int = (100.0, 1.0)  # The signal is centered at 100 Hz and integrates to 1 H\n",
    "couplings = [\n",
    "    (3.0, 1),  # one coupling of 3.0 Hz\n",
    "    (7.0, 1)   # one coupling of 7.0 Hz\n",
    "]\n",
    "dd_signal = first_order(freq_int, couplings)\n",
    "dd_signal"
   ]
  },
  {
   "cell_type": "code",
   "execution_count": null,
   "metadata": {},
   "outputs": [],
   "source": [
    "x = np.linspace(85, 115, 800)\n",
    "y = add_signals(x, dd_signal, 0.5)\n",
    "obj = go.Scatter(x=x, y=y)\n",
    "data = [obj]\n",
    "iplot(data)"
   ]
  },
  {
   "cell_type": "code",
   "execution_count": null,
   "metadata": {},
   "outputs": [],
   "source": [
    "def interactive_dd(J1=3.0, J2=7.0):\n",
    "    args = (J1, J2)\n",
    "    x = np.linspace(85, 115, 800)\n",
    "    signal = (100.0, 1)\n",
    "    couplings = [(J1, 1), (J2, 1)]\n",
    "    spectrum = first_order(signal, couplings)\n",
    "    y = add_signals(x, spectrum, 0.5)\n",
    "    obj = go.Scatter(x=x, y=y)\n",
    "    data = [obj]\n",
    "    iplot(data)"
   ]
  },
  {
   "cell_type": "code",
   "execution_count": null,
   "metadata": {},
   "outputs": [],
   "source": [
    "interactive_dd()"
   ]
  },
  {
   "cell_type": "code",
   "execution_count": null,
   "metadata": {},
   "outputs": [],
   "source": [
    "interactive(interactive_dd, J1=(0, 20, 0.1), J2=(0, 20, 0.1))"
   ]
  },
  {
   "cell_type": "code",
   "execution_count": null,
   "metadata": {},
   "outputs": [],
   "source": [
    "args = (\n",
    "    200,  # v1\n",
    "    100,  # v2\n",
    "    10,   # J\n",
    "    0.1,  # k\n",
    "    0.5   # W\n",
    ")\n"
   ]
  },
  {
   "cell_type": "code",
   "execution_count": null,
   "metadata": {},
   "outputs": [],
   "source": [
    "x, y = dnmrplot_AB(*args)\n",
    "obj = go.Scatter(x=x, y=y)\n",
    "data = [obj]\n",
    "# figure = go.Figure(data=data)\n",
    "iplot(data)"
   ]
  },
  {
   "cell_type": "code",
   "execution_count": null,
   "metadata": {},
   "outputs": [],
   "source": [
    "def interactive_ab(v1=200, v2=100, J=10, k=0.1, W=0.5):\n",
    "    args = (v1, v2, J, k, W)\n",
    "    x, y = dnmrplot_AB(*args)\n",
    "    obj = go.Scatter(x=x, y=y)\n",
    "    data = [obj]\n",
    "    iplot(data)"
   ]
  },
  {
   "cell_type": "code",
   "execution_count": null,
   "metadata": {},
   "outputs": [],
   "source": [
    "interactive_ab()\n"
   ]
  },
  {
   "cell_type": "code",
   "execution_count": null,
   "metadata": {},
   "outputs": [],
   "source": [
    "interactive(interactive_ab, k=(0.1, 1000))"
   ]
  },
  {
   "cell_type": "code",
   "execution_count": null,
   "metadata": {},
   "outputs": [],
   "source": []
  }
 ],
 "metadata": {
  "kernelspec": {
   "display_name": "Python [conda env:chem333]",
   "language": "python",
   "name": "conda-env-chem333-py"
  },
  "language_info": {
   "codemirror_mode": {
    "name": "ipython",
    "version": 3
   },
   "file_extension": ".py",
   "mimetype": "text/x-python",
   "name": "python",
   "nbconvert_exporter": "python",
   "pygments_lexer": "ipython3",
   "version": "3.6.6"
  }
 },
 "nbformat": 4,
 "nbformat_minor": 1
}
