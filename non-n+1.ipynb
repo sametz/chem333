{
 "cells": [
  {
   "cell_type": "markdown",
   "metadata": {},
   "source": [
    "# When the \"*n* + 1\" Rule Doesn't Apply: More Complicated Splitting Patterns"
   ]
  },
  {
   "cell_type": "markdown",
   "metadata": {},
   "source": [
    "**Instructions:** From the \"Cell\" dropdown menu, select  \"Run All\". The interactive plots that accompany the text will be activated."
   ]
  },
  {
   "cell_type": "code",
   "execution_count": 1,
   "metadata": {},
   "outputs": [
    {
     "data": {
      "text/html": [
       "<script>requirejs.config({paths: { 'plotly': ['https://cdn.plot.ly/plotly-latest.min']},});if(!window.Plotly) {{require(['plotly'],function(plotly) {window.Plotly=plotly;});}}</script>"
      ],
      "text/vnd.plotly.v1+html": [
       "<script>requirejs.config({paths: { 'plotly': ['https://cdn.plot.ly/plotly-latest.min']},});if(!window.Plotly) {{require(['plotly'],function(plotly) {window.Plotly=plotly;});}}</script>"
      ]
     },
     "metadata": {},
     "output_type": "display_data"
    }
   ],
   "source": [
    "from ipywidgets import interactive\n",
    "from plotly.offline import init_notebook_mode\n",
    "\n",
    "init_notebook_mode(connected=True)"
   ]
  },
  {
   "cell_type": "markdown",
   "metadata": {},
   "source": [
    "For many of the simple molecules you'll encounter in CHEM333, the \"n + 1\" rule can be used to predict or interpret the multiplicity of an NMR signal. However, this rule very often does not hold. For the \"*n* + 1\" to be applicable:\n",
    "\n",
    "- all neighboring nuclei must split the signal to the same extent (i.e. all *J* coupling constants must be the same)\n",
    "- all chemical shift-equivalent nuclei must also be magnetically equivalent (see below)\n",
    "\n",
    "The \"*n* + 1\" is most reliable for acyclic alkyl groups, where bond rotation is rapid and no strong conformational preference exists. Coupling constants of ~7 Hz are typical in these systems. "
   ]
  },
  {
   "cell_type": "markdown",
   "metadata": {},
   "source": [
    "More complicated systems where the n + 1 rule doesn't hold fall into two categories:\n",
    "\n",
    "1. *First-order*: the signal can be deconvoluted into individual \"n + 1\" multiplet splittings, with different multiplets for different *J* couplings. Accurate chemical shifts and coupling constants can be determined directly from the chemical shifts/frequencies (the x-axis coordinate).\n",
    "\n",
    "2. *Second-order*: \"true\" chemical shifts and coupling constants cannot be determined by direct measurement. This is common in systems where:\n",
    "  - the size of *J* is around, or greater than, the size of the chemical shift difference between coupled protons (in Hz).\n",
    "  - there are chemical shift-equivalent protons that are not magnetically-equivalent. \n"
   ]
  },
  {
   "cell_type": "markdown",
   "metadata": {},
   "source": [
    "## First-Order Multiplets"
   ]
  },
  {
   "cell_type": "markdown",
   "metadata": {},
   "source": [
    "### Two couplings: doublet of doublets (dd)\n",
    "\n",
    "When a proton is split by two neighboring nuclei, but to different degrees (i.e. the two *J* coupling constants are different), a doublet of doublets pattern results: 4 peaks of equal intensity (1 : 1 : 1 : 1).\n",
    "\n",
    "For any first-order multiplet:\n",
    "- the multiplet is centrosymmetric (i.e. symmetric left-right). The center of the multiplet is the chemical shift for the proton--in the absence of any splitting, a singlet would appear at this frequency.\n",
    "- the ratios of peak areas (with the smallest peak = 1) should add up to a power of 2. In the case of a doublet of doublets, 1 + 1 + 1 + 1 = 4 = $2^2$.\n"
   ]
  },
  {
   "cell_type": "code",
   "execution_count": 2,
   "metadata": {
    "scrolled": false
   },
   "outputs": [
    {
     "data": {
      "application/vnd.jupyter.widget-view+json": {
       "model_id": "d821296f18cb4cfaaf3e7cf83d86834e",
       "version_major": 2,
       "version_minor": 0
      },
      "text/plain": [
       "interactive(children=(FloatSlider(value=3.0, description='J1', max=20.0), FloatSlider(value=7.0, description='…"
      ]
     },
     "metadata": {},
     "output_type": "display_data"
    }
   ],
   "source": [
    "from plots import interactive_dd\n",
    "\n",
    "interactive(interactive_dd, J1=(0, 20, 0.1), J2=(0, 20, 0.1), w=(0.1, 1, 0.1))"
   ]
  },
  {
   "cell_type": "code",
   "execution_count": 3,
   "metadata": {},
   "outputs": [],
   "source": [
    "# space"
   ]
  },
  {
   "cell_type": "markdown",
   "metadata": {},
   "source": [
    "#### Exercise: doublet of doublets\n",
    "\n",
    "The plot above should initialize as a dd for 1 H, with $J_1 = 3$ Hz and $J_2 = 7$ Hz. In these simulated examples, the height of each peak (0.25) happens to be proportional to the area (CAUTION: this is often not true in real spectra because line widths can differ). The relative intensities are 0.25 : 0.25 : 0.25 : 0.25, or 1 : 1 : 1 : 1.\n",
    "\n",
    "* Drag both *J* sliders to 0 (or, type \"0\" in the fields to the right of each slider and hit \"Return\" or \"Enter\" on your keyboard). You should see the signal collapse to a singlet at 100 Hz. If the x axis started at 0 Hz for TMS, and the spectrometer were a 100 MHz spectrometer, this would correspond to a chemical shift of 1 ppm. Note the height of the signal (an approximation of its total area) is now 1. In the absence of any splitting, this proton will only resonate at this one frequency, and its integration would be normalized as 1 H.\n",
    "\n",
    "* Now, drag the $J_2$ slider back to 7 Hz. A doublet with a 7-Hz splitting results. Each peak is half intensity, and would integrate to 0.5 H. This means that half of the nuclei are resonating 3.5 Hz lower than 100 MHz, and half 3.5 Hz higher. The signal is centrosymmetric about 100 MHz.\n",
    "\n",
    "* Drag the $J_1$ slider to about 0.5 Hz. Each peak in the previous doublet has started to split into doublets themselves. When the size of the splitting is small compared to the peak width (set to 0.5 Hz, and controlled by the \"w\" slider), you won't see complete separation of the peaks, and in a real spectrum if the signal-to-noise ratio is small enough it can be difficult to determine if this is a \"real\" splitting or not.\n",
    "\n",
    "* Drag the $J_1$ slider back to 3 Hz. The signals are now well separated, and the dd pattern is clear. When analyzing such first-order multiplets, start by measuring the distance between the first two peaks (or the last two), and the distance between the first and third peaks (or the last and third-last). These distances, in Hz, will be two coupling constants. In the dd case, this completes the analysis--the two splittings can be measured as 3 and 7 Hz, and the center of the signal (in ppm) would be the chemical shift. \n",
    "\n",
    "In the chemical literature, coupling constants are listed in order from largest to smallest, and the corresponding splitting (d for doublet, t, for triplet, q for quartet etc. ) follow the same order. This signal would be reported (if this were a 100-MHz spectrometer) as: \"$\\delta$ 1.00 ppm (1H, dd, *J* = 7.0, 3.0 Hz)\".\n",
    "\n",
    "* Drag the $J_1$ slider to 7 Hz. Now that both coupling constants are the same, the inner two peaks overlap to form a double-intensity signal, and the 1 : 2 : 1 triplet pattern results. The patterns that result from the *n* + 1 rule (doublets, quartets, quintets) are the special cases that result when coupling constants are the same size. \n",
    "\n",
    "Note that a proton may have two different neighbors (protons that are not related by symmetry or exchanged by rotation) that coincidentally have the same *J* value, or very similar. Sometimes spectra taken on more powerful spectrometers can appear more complicated because these small differences can be detected. \n",
    "\n",
    "* Drag the $J_1$ slider slightly back, to 6.5 Hz. The triplet has started to break up. On a spectrometer with poorer resolution, this may still look like a triplet, or like a \"squashed triplet\" with the middle peak being a bit shorter and broader. Slide the \"w\" setting up to 1.00 Hz to simulate this effect.\n",
    "\n"
   ]
  },
  {
   "cell_type": "markdown",
   "metadata": {},
   "source": [
    "### Three couplings: doublet of doublet of doublets (ddd)\n",
    "The plot below is an example of a ddd pattern with no coincedental overlap. There are 8 peaks of equal intensity. 8 is $2^3$, so there are three couplings.\n",
    "\n",
    "If you could measure the distances in Hz between peaks, how would you go about analyzing such a signal? You can start \"untangling the knot\" by realizing:\n",
    "- the distance between the first two peaks is the smallest coupling constant (here, $J_1$)\n",
    "- every peak will be half of a doublet with a splitting of $J_1$\n",
    "- if the effect of this splitting is removed, the signal will reduce in complexity (here, to a dd)\n",
    "- repeat the process until all coupling constants are determined\n",
    "\n",
    "This is often shown graphically with a \"tree diagram\", as shown below."
   ]
  },
  {
   "cell_type": "markdown",
   "metadata": {},
   "source": [
    "<img src='img/ddd2.png'>"
   ]
  },
  {
   "cell_type": "markdown",
   "metadata": {},
   "source": [
    "If you had a spectrum with peak picking in Hz, then $J_1$ would be the difference in frequency between the first and second peaks, $J_2$ the distance between the first and third, and $J_3$ the distance between the first and fourth. **This will not always be the case**. However, the distance between the first two (or last two) peaks will always be a true coupling constant (in a first-order multiplet)."
   ]
  },
  {
   "cell_type": "markdown",
   "metadata": {},
   "source": [
    "You can graphically simulate this thought process by manipulating the plot below. First, change J1 to 0 Hz to remove the smallest doublet splitting and simplify the multiplet to a dd. Then, change J2 to 0 to simplify to a d, and finally change J3 to 0 to collapse the signal all the way to a singlet."
   ]
  },
  {
   "cell_type": "code",
   "execution_count": 4,
   "metadata": {
    "scrolled": false
   },
   "outputs": [
    {
     "data": {
      "application/vnd.jupyter.widget-view+json": {
       "model_id": "1909fa1b79414f0e8c053f86fe1476be",
       "version_major": 2,
       "version_minor": 0
      },
      "text/plain": [
       "interactive(children=(FloatSlider(value=4.0, description='J1', max=20.0), FloatSlider(value=10.0, description=…"
      ]
     },
     "metadata": {},
     "output_type": "display_data"
    }
   ],
   "source": [
    "from plots import interactive_ddd\n",
    "\n",
    "interactive(interactive_ddd, J1=(0, 20, 0.1), J2=(0, 20, 0.1), J3=(0, 20, 0.1))"
   ]
  },
  {
   "cell_type": "markdown",
   "metadata": {},
   "source": [
    "Coincidental overlap can reduce the number of peaks in the ddd pattern.\n",
    "\n",
    "Adjust the sliders in the above simulation so that J1 and J2 = 10 Hz, and J3 = 4 Hz. The resulting pattern is a triplet of doublets, and would be reported as \"td, *J* = 10.0, 4.0 Hz\". Note that the coupling constants are listed in order from largest to smallest, and so the multiplicities are listed as \"td\" and not \"dt\". The ratio of the peak intensities is 1:1:2:2:1:1, which adds up to 8.\n",
    "\n",
    "Adjust the J2 slider to 4 Hz. The resulting signal is a doublet of triplets, with peak intensities in the ratio of 1:2:1:1:2:1. This would be reported as \"dt, *J* = 10.0, 4.0 Hz\". Note the importance of listing the multiplicities in the correct order (td vs dt) to properly describe the appearance of the signal.\n",
    "\n",
    "Adjust the J1 slider to 8 Hz. There is now coincidental overlap of two of the peaks (the inner two peaks of relative intensity 1 are now a single peak with a relative intensity of 2). This would still be considered a doublet of triplets. Note how it almost looks like an \"*n* + 1\" pentet, but the intensities are wrong (1:2:2:2:1 for the dt, vs. 1:4:6:4:1 for a pentet)."
   ]
  },
  {
   "cell_type": "code",
   "execution_count": 5,
   "metadata": {},
   "outputs": [
    {
     "data": {
      "application/vnd.jupyter.widget-view+json": {
       "model_id": "4b59cb50e7f14136a902046860881b15",
       "version_major": 2,
       "version_minor": 0
      },
      "text/plain": [
       "interactive(children=(FloatSlider(value=6.0, description='J1', max=20.0), FloatSlider(value=6.0, description='…"
      ]
     },
     "metadata": {},
     "output_type": "display_data"
    }
   ],
   "source": [
    "from plots import interactive_dddd\n",
    "\n",
    "interactive(interactive_dddd, J1=(0, 20, 0.1), J2=(0, 20, 0.1), J3=(0, 20, 0.1), J4=(0, 20, 0.1))"
   ]
  },
  {
   "cell_type": "code",
   "execution_count": 6,
   "metadata": {},
   "outputs": [],
   "source": [
    "# TODO: dddd examples"
   ]
  },
  {
   "cell_type": "markdown",
   "metadata": {},
   "source": [
    "## Second-Order Patterns\n",
    "\n",
    "### Pople Nomenclature\n",
    "\n",
    "In order to talk about second-order NMR spectra, and be able to predict when second-order effects can be expected, we need to define the following terms:\n",
    "- chemical shift equivalence/non-equivalence\n",
    "- magnetic equivalence/non-equivalence\n",
    "\n",
    "Then, we can describe \"spin systems\" (groups of coupled nuclei) using a naming scheme (\"Pople nomenclature\") that groups the nuclei by chemical shift and magnetic equivalence. Some common examples of systems that can exhibit second-order behavior include (using Pople nomenclature):\n",
    "- AB (\"AB quartet\")\n",
    "- ABX\n",
    "- ABX<sub>3</sub>\n",
    "- AA'XX'\n"
   ]
  },
  {
   "cell_type": "markdown",
   "metadata": {},
   "source": [
    "#### Chemical Shift Equivalence\n",
    "\n",
    "In Pople nomenclature, a different letter of the alphabet is used for nuclei exhibiting different chemical shifts. \n",
    "\n",
    "If two nuclei exhibit the exact same chemical shift, either because there is a symmetry element in the molecule, or because of rapid exchange, they are \"chemical shift equivalent\". In Pople nomenclature, the letter has a subscript number added to denote the number of equivalent nuclei.\n",
    "\n",
    "If two nuclei are far apart in chemical shift, letters far apart in the alphabet are chosen (e.g. AX for two nuclei; AMX for three nuclei). If they are close in chemical shift, letters close together in the alphabet are chosen (e.g. AB for two nuclei; ABX for two nuclei close in chemical shift, and one further away).\n",
    "\n",
    "Example: chloroethane (Cl-CH<sub>2</sub>-CH<sub>3</sub>) has an A<sub>2</sub>X<sub>3</sub> spin system. The protons of the downfield methylene group are chemical shift-equivalent because there is a mirror plane of symmetry relating them. The protons of the methyl group are equivalent because rapid rotation about the C-C bond exchanges them, and on average they will have the same chemical shift.\n",
    "\n",
    "##### Homotopic, Enantiotopic, and Diastereotopic Nuclei: The Substitution Test\n",
    "\n",
    "In the case of chloroethane, the protons of the methyl group are *homotopic*: they will have the same chemical shift, even if they are placed in a chiral environment (e.g. in a chiral solvent, or inside an enzyme's active site). \n",
    "\n",
    "The methylene protons are *enantiotopic*: they will have the same chemical shift *in an achiral environment*. However, in the presence of a chiral environment, they can have different chemical shifts. \n",
    "\n",
    "If there is no element of symmetry or exchange between two geminal protons, they are *diastereotopic* and will always be chemical-shift inequivalent (although they may coincidentally have chemical shifts to close to distinguish). \n",
    "\n",
    "// give examples\n",
    "\n",
    "One way to check if two protons are homotopic, enantiotopic, or diastereotopic is to substitute one of the protons with another atom such as Cl or D. Then, substitute the other instead.\n",
    "\n",
    "- if both substitutions give the same result, the protons were homotopic. For example, substitution of any of the three methyl protons in chloroethane with deuterium give the same molecule, Cl-CH<sub>2</sub>-CH<sub>2</sub>-D.\n",
    "\n",
    "- if the substitutions give different enantiomers, the protons were enantiotopic. For example, substitution of a methylene proton in chloroethane with fluorine will give either (*R*)-1-chloro-1-fluoroethane or (*S*)-.\n",
    "\n",
    "- if the substitutions give diastereomers, the protons were diastereotopic. //give example\n"
   ]
  },
  {
   "cell_type": "code",
   "execution_count": null,
   "metadata": {},
   "outputs": [],
   "source": [
    "#### Magnetic Equivalence"
   ]
  },
  {
   "cell_type": "markdown",
   "metadata": {},
   "source": [
    "# AB"
   ]
  },
  {
   "cell_type": "code",
   "execution_count": 8,
   "metadata": {},
   "outputs": [
    {
     "data": {
      "application/vnd.jupyter.widget-view+json": {
       "model_id": "8e8fa961867047da9fda8ac073f2e01e",
       "version_major": 2,
       "version_minor": 0
      },
      "text/plain": [
       "interactive(children=(FloatSlider(value=150.0, description='v1', max=150.0, min=50.0), FloatSlider(value=50.0,…"
      ]
     },
     "metadata": {},
     "output_type": "display_data"
    }
   ],
   "source": [
    "from plots import interactive_AB\n",
    "interactive(interactive_AB, v1=(50, 150, 0.1), v2=(50, 150, 0.1), J=(0, 20, 0.1))"
   ]
  },
  {
   "cell_type": "code",
   "execution_count": 9,
   "metadata": {},
   "outputs": [],
   "source": [
    "# note: when v1=105, v2=87.8, J=10, the ABq looks like a regular q"
   ]
  },
  {
   "cell_type": "markdown",
   "metadata": {},
   "source": [
    "## ABX"
   ]
  },
  {
   "cell_type": "code",
   "execution_count": 10,
   "metadata": {},
   "outputs": [
    {
     "data": {
      "application/vnd.jupyter.widget-view+json": {
       "model_id": "98fcd5d6cd3f4deba4f55ab071dec0fb",
       "version_major": 2,
       "version_minor": 0
      },
      "text/plain": [
       "interactive(children=(FloatSlider(value=110.0, description='va', max=150.0, min=50.0), FloatSlider(value=90.0,…"
      ]
     },
     "metadata": {},
     "output_type": "display_data"
    }
   ],
   "source": [
    "from plots import interactive_ABX\n",
    "interactive(interactive_ABX, \n",
    "            va=(50, 150, 0.1), vb=(50, 150, 0.1), \n",
    "            Jax=(-20, 20, 0.1), Jbx=(-20, 20, 0.1), Jab=(-20, 20, 0.1))"
   ]
  },
  {
   "cell_type": "markdown",
   "metadata": {},
   "source": [
    "## AA'XX'"
   ]
  },
  {
   "cell_type": "markdown",
   "metadata": {},
   "source": [
    "This is a very common second-order pattern. In acyclic systems, an X-CH<sub>2</sub>-CH<sub>2</sub>-Y unit does not necessarily appear as a pair of triplets--it depends on the relative population of gauche and anti confomers (rotating about the C-C bond). In *para*-disubstituted benzenes, at low resolution, a pair of doublets is seen, and it is commonly analyzed as such. At higher resolution, the appearance of the signals becomes more complex.\n",
    "\n"
   ]
  },
  {
   "cell_type": "code",
   "execution_count": 11,
   "metadata": {},
   "outputs": [
    {
     "data": {
      "application/vnd.jupyter.widget-view+json": {
       "model_id": "86f9872260fd4943859c428ec2c72a15",
       "version_major": 2,
       "version_minor": 0
      },
      "text/plain": [
       "interactive(children=(FloatSlider(value=110.0, description='va', max=200.0), FloatSlider(value=90.0, descripti…"
      ]
     },
     "metadata": {},
     "output_type": "display_data"
    }
   ],
   "source": [
    "from plots import interactive_AAXX\n",
    "interactive(interactive_AAXX, \n",
    "            va=(0, 200, 0.1), vx=(0, 200, 0.1), \n",
    "            Jaa=(-20, 20, 0.1), Jxx=(-20, 20, 0.1), Jax=(-20, 20, 0.1), Jax_prime=(-20, 20, 0.1))"
   ]
  },
  {
   "cell_type": "code",
   "execution_count": null,
   "metadata": {},
   "outputs": [],
   "source": []
  }
 ],
 "metadata": {
  "kernelspec": {
   "display_name": "Python 3",
   "language": "python",
   "name": "python3"
  },
  "language_info": {
   "codemirror_mode": {
    "name": "ipython",
    "version": 3
   },
   "file_extension": ".py",
   "mimetype": "text/x-python",
   "name": "python",
   "nbconvert_exporter": "python",
   "pygments_lexer": "ipython3",
   "version": "3.6.6"
  }
 },
 "nbformat": 4,
 "nbformat_minor": 1
}
