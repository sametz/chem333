{
 "cells": [
  {
   "cell_type": "code",
   "execution_count": null,
   "metadata": {},
   "outputs": [],
   "source": [
    "%%html\n",
    "<style>\n",
    "body {\n",
    "    font-family: \"Avenir\", cursive, sans-serif;\n",
    "}\n",
    "</style> "
   ]
  },
  {
   "cell_type": "markdown",
   "metadata": {},
   "source": [
    "# First-Order Splitting Patterns in <sup>1</sup>H NMR Spectra, Part 2: When the \"*n* + 1\" Rule Doesn't Apply"
   ]
  },
  {
   "cell_type": "markdown",
   "metadata": {},
   "source": [
    "### **Instructions:** From the \"Cell\" dropdown menu, select  \"Run All\". The interactive plots that accompany the text will be activated."
   ]
  },
  {
   "cell_type": "code",
   "execution_count": null,
   "metadata": {},
   "outputs": [],
   "source": [
    "from IPython.display import HTML"
   ]
  },
  {
   "cell_type": "code",
   "execution_count": null,
   "metadata": {},
   "outputs": [],
   "source": [
    "HTML('''<script>\n",
    "code_show=true; \n",
    "function code_toggle() {\n",
    " if (code_show){\n",
    " $('div.input').hide();\n",
    " } else {\n",
    " $('div.input').show();\n",
    " }\n",
    " code_show = !code_show\n",
    "} \n",
    "$( document ).ready(code_toggle);\n",
    "</script>\n",
    "The python code for this notebook is hidden by default. \n",
    "To toggle on/off the raw code, click <a href=\"javascript:code_toggle()\">here</a>.''')"
   ]
  },
  {
   "cell_type": "markdown",
   "metadata": {},
   "source": [
    "In [Part 1](first_order_part_1.ipynb) of this tutorial, NMR splittings that follow the \"n + 1\" rule were covered. One requirement for a nucleus' multiplet to follow the \"n + 1\" is that all of its observed couplings must be the same size. This is most commonly seen in acyclic alkyl groups, with apparent *J* couplings of ~ 7 Hz. \n",
    "\n",
    "When the sizes of the *J* couplings differ, more complicated patterns arise. However, if the signal is still following first-order behavior it can be broken down into simpler \"n + 1\" components. \n",
    "\n",
    "See [Hans Reich's website](https://www2.chem.wisc.edu/areas/reich/nmr/05-hmr-03-jcoupl.htm) for a more in-depth description on analyzing first-order signals, with many instructive examples."
   ]
  },
  {
   "cell_type": "code",
   "execution_count": null,
   "metadata": {},
   "outputs": [],
   "source": [
    "import holoviews as hv\n",
    "import panel as pn\n",
    "hv.extension('bokeh', width=100)\n",
    "pn.extension()"
   ]
  },
  {
   "cell_type": "markdown",
   "metadata": {},
   "source": [
    "### Two couplings: doublet of doublets (dd)\n",
    "\n",
    "When a proton is split by two neighboring nuclei, but to different degrees (i.e. the two *J* coupling constants are different), a doublet of doublets pattern results: 4 peaks of equal intensity (1 : 1 : 1 : 1).\n",
    "\n",
    "For any first-order multiplet:\n",
    "- the multiplet is centrosymmetric (i.e. symmetric left-right). The center of the multiplet is the chemical shift for the proton--in the absence of any splitting, a singlet would appear at this frequency.\n",
    "- the ratios of peak areas (with the smallest peak = 1) should add up to a power of 2. In the case of a doublet of doublets, 1 + 1 + 1 + 1 = 4 = $2^2$.\n"
   ]
  },
  {
   "cell_type": "markdown",
   "metadata": {},
   "source": [
    "#### Exercise: doublet of doublets\n",
    "\n",
    "The plot below should initialize as a dd for 1 H, with $J_1 = 3$ Hz and $J_2 = 7$ Hz. In these simulated examples, the height of each peak (0.25) happens to be proportional to the area (CAUTION: this is often not true in real spectra because line widths can differ). The relative intensities are 0.25 : 0.25 : 0.25 : 0.25, or 1 : 1 : 1 : 1."
   ]
  },
  {
   "cell_type": "code",
   "execution_count": null,
   "metadata": {},
   "outputs": [],
   "source": [
    "from panel_plots import dd_app\n",
    "# dd_app\n",
    "pn.Row(\n",
    "    pn.Column(dd_app[0], width_policy='min'), \n",
    "    pn.Column(dd_app[1], width_policy='max'), \n",
    "    width_policy='max')"
   ]
  },
  {
   "cell_type": "markdown",
   "metadata": {},
   "source": [
    "* Drag the $J_1$ slider to 0 Hz, which collapses the smaller splitting. A doublet with a 7-Hz splitting remains. Each peak is half intensity, and would integrate to 0.5 H. \n",
    "\n",
    "* Drag the $J_1$ slider to about 0.5 Hz (Note: if you are using a keyboard, after clicking on a slider you can make move the slider in small increments using the left and right arrow keys). Each peak in the previous doublet has started to split into doublets themselves. When the size of the splitting is small compared to the peak width (set to 0.5 Hz, and controlled by the \"w\" slider), you won't see complete separation of the peaks, and in a real spectrum if the signal-to-noise ratio is small enough it can be difficult to determine if this is a \"real\" splitting or not.\n",
    "\n",
    "* Drag the $J_1$ slider back to 3 Hz. The signals are now well separated, and the dd pattern is clear. When analyzing such first-order multiplets, start by measuring the distance between the first two peaks (or the last two), and the distance between the first and third peaks (or the last and third-last). These distances, in Hz, will be two coupling constants. In the dd case, this completes the analysis--the two splittings can be measured as 3 and 7 Hz, and the center of the signal (in ppm) would be the chemical shift. \n",
    "\n",
    "In the chemical literature, coupling constants are listed in order from largest to smallest, and the corresponding splitting (d for doublet, t, for triplet, q for quartet etc. ) follow the same order. This signal would be reported (if this were a 100-MHz spectrometer) as: \"$\\delta$ 1.00 ppm (1H, dd, *J* = 7.0, 3.0 Hz)\".\n",
    "\n",
    "* Drag the $J_1$ slider to 7 Hz. Now that both coupling constants are the same, the inner two peaks overlap to form a double-intensity signal, and the 1 : 2 : 1 triplet pattern results. The patterns that result from the *n* + 1 rule (doublets, quartets, quintets) are the special cases that result when coupling constants are the same size. \n",
    "\n",
    "Note that a proton may have two different neighbors (protons that are not related by symmetry or exchanged by rotation) that coincidentally have the same *J* value, or very similar. Sometimes spectra taken on more powerful spectrometers can appear more complicated because these small differences can be detected. \n",
    "\n",
    "* Drag the $J_1$ slider slightly back, to 6.5 Hz. The triplet has started to break up. On a spectrometer with poorer resolution, this may still look like a triplet, or like a \"squashed triplet\" with the middle peak being a bit shorter and broader. Slide the \"w\" setting up to 1.00 Hz to simulate this effect."
   ]
  },
  {
   "cell_type": "markdown",
   "metadata": {},
   "source": [
    "### Three couplings: doublet of doublet of doublets (ddd)\n",
    "The plot below is an example of a ddd pattern with no coincedental overlap. There are 8 peaks of equal intensity. 8 is $2^3$, so there are three couplings."
   ]
  },
  {
   "cell_type": "markdown",
   "metadata": {},
   "source": [
    "If you could measure the distances in Hz between peaks, how would you go about analyzing such a signal? You can start \"untangling the knot\" by realizing:\n",
    "- the distance between the first two peaks is the smallest coupling constant (here, $J_1$)\n",
    "- every peak will be half of a doublet with a splitting of $J_1$\n",
    "- if the effect of this splitting is removed, the signal will reduce in complexity (here, to a dd)\n",
    "- repeat the process until all coupling constants are determined\n",
    "\n",
    "This is often shown graphically with a \"tree diagram\", as shown below."
   ]
  },
  {
   "cell_type": "markdown",
   "metadata": {},
   "source": [
    "<img src='img/ddd2.png' style=\"width: 600px;\">"
   ]
  },
  {
   "cell_type": "markdown",
   "metadata": {},
   "source": [
    "If you had a spectrum with peak picking in Hz, then $J_1$ would be the difference in frequency between the first and second peaks, $J_2$ the distance between the first and third, and $J_3$ the distance between the first and fourth. **This will not always be the case**. However, the distance between the first two (or last two) peaks will always be a true coupling constant (in a first-order multiplet)."
   ]
  },
  {
   "cell_type": "markdown",
   "metadata": {},
   "source": [
    "#### Exercise: doublet of doublet of doublets"
   ]
  },
  {
   "cell_type": "markdown",
   "metadata": {},
   "source": [
    "You can graphically simulate this thought process by manipulating the plot below. First, change J1 to 0 Hz to remove the smallest doublet splitting and simplify the multiplet to a dd. Then, change J2 to 0 to simplify to a d, and finally change J3 to 0 to collapse the signal all the way to a singlet."
   ]
  },
  {
   "cell_type": "code",
   "execution_count": null,
   "metadata": {},
   "outputs": [],
   "source": [
    "from panel_plots import ddd_app\n",
    "# ddd_app\n",
    "pn.Row(\n",
    "    pn.Column(ddd_app[0], width_policy='min'), \n",
    "    pn.Column(ddd_app[1], width_policy='max'), \n",
    "    width_policy='max')"
   ]
  },
  {
   "cell_type": "markdown",
   "metadata": {},
   "source": [
    "Coincidental overlap can reduce the number of peaks in the ddd pattern.\n",
    "\n",
    "- Adjust the sliders in the above simulation so that J1 and J2 = 10 Hz, and J3 = 4 Hz. The resulting pattern is a triplet of doublets, and would be reported as \"td, *J* = 10.0, 4.0 Hz\". Note that the coupling constants are listed in order from largest to smallest, and so the multiplicities are listed as \"td\" and not \"dt\". The ratio of the peak intensities is 1:1:2:2:1:1, which adds up to 8.\n",
    "\n",
    "- Adjust the J2 slider to 4 Hz. The resulting signal is a doublet of triplets, with peak intensities in the ratio of 1:2:1:1:2:1. This would be reported as \"dt, *J* = 10.0, 4.0 Hz\". Note the importance of listing the multiplicities in the correct order (td vs dt) to properly describe the appearance of the signal.\n",
    "\n",
    "- Adjust the J1 slider to 8 Hz. There is now coincidental overlap of two of the peaks (the inner two peaks of relative intensity 1 are now a single peak with a relative intensity of 2). This would still be considered a doublet of triplets. Note how it almost looks like an \"*n* + 1\" pentet, but the intensities are wrong (1:2:2:2:1 for the dt, vs. 1:4:6:4:1 for a pentet)."
   ]
  },
  {
   "cell_type": "markdown",
   "metadata": {},
   "source": [
    "## TODO: dddd examples\n",
    "For now, a simulator for a signal with 4 *J* couplings is provided below."
   ]
  },
  {
   "cell_type": "code",
   "execution_count": null,
   "metadata": {},
   "outputs": [],
   "source": [
    "from panel_plots import dddd_app\n",
    "dddd_app"
   ]
  }
 ],
 "metadata": {
  "kernelspec": {
   "display_name": "jupyterhub",
   "language": "python",
   "name": "jupyterhub"
  },
  "language_info": {
   "codemirror_mode": {
    "name": "ipython",
    "version": 3
   },
   "file_extension": ".py",
   "mimetype": "text/x-python",
   "name": "python",
   "nbconvert_exporter": "python",
   "pygments_lexer": "ipython3",
   "version": "3.7.7"
  }
 },
 "nbformat": 4,
 "nbformat_minor": 4
}
