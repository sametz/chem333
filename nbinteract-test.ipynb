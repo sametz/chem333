{
 "cells": [
  {
   "cell_type": "code",
   "execution_count": 7,
   "metadata": {},
   "outputs": [],
   "source": [
    "import nbinteract as nbi"
   ]
  },
  {
   "cell_type": "code",
   "execution_count": 15,
   "metadata": {},
   "outputs": [],
   "source": [
    "import numpy as np"
   ]
  },
  {
   "cell_type": "code",
   "execution_count": 4,
   "metadata": {},
   "outputs": [],
   "source": [
    "from nmrtools.nmrmath import dnmr_AB"
   ]
  },
  {
   "cell_type": "code",
   "execution_count": 64,
   "metadata": {},
   "outputs": [],
   "source": [
    "def ab_x(v1, v2, J, k, W):\n",
    "    print(v1)\n",
    "    print(v2)\n",
    "    l_lim = min(v1, v2) - 50\n",
    "    r_lim = max(v1, v2) + 50\n",
    "    x = np.linspace(l_lim, r_lim, 800)\n",
    "#     print('x: ', x)\n",
    "    return x\n",
    "\n",
    "def ab_y(x, v1, v2, J, k, W):\n",
    "    y = dnmr_AB(x, v1, v2, J, k, W)\n",
    "#     print('y: ', y)\n",
    "    print(v1, v2)\n",
    "    return y"
   ]
  },
  {
   "cell_type": "code",
   "execution_count": 65,
   "metadata": {},
   "outputs": [
    {
     "data": {
      "application/vnd.jupyter.widget-view+json": {
       "model_id": "f2cba67696744c0292dd351d169bcd6a",
       "version_major": 2,
       "version_minor": 0
      },
      "text/plain": [
       "VBox(children=(interactive(children=(IntSlider(value=165, description='v1', max=495, min=-165), IntSlider(valu…"
      ]
     },
     "metadata": {},
     "output_type": "display_data"
    }
   ],
   "source": [
    "nbi.line(ab_x, ab_y, v1=165, v2=135, J=12, k=12, W=0.5)"
   ]
  },
  {
   "cell_type": "code",
   "execution_count": null,
   "metadata": {},
   "outputs": [],
   "source": []
  }
 ],
 "metadata": {
  "kernelspec": {
   "display_name": "Python [conda env:chem333] *",
   "language": "python",
   "name": "conda-env-chem333-py"
  },
  "language_info": {
   "codemirror_mode": {
    "name": "ipython",
    "version": 3
   },
   "file_extension": ".py",
   "mimetype": "text/x-python",
   "name": "python",
   "nbconvert_exporter": "python",
   "pygments_lexer": "ipython3",
   "version": "3.7.3"
  }
 },
 "nbformat": 4,
 "nbformat_minor": 2
}
